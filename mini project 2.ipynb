{
 "cells": [
  {
   "cell_type": "code",
   "execution_count": 1,
   "metadata": {},
   "outputs": [],
   "source": [
    "import pandas as pd\n",
    "import numpy as np\n",
    "import math\n",
    "import matplotlib.pyplot as plt\n",
    "import seaborn as sns\n",
    "from sklearn.cluster import KMeans\n",
    "from pylab import rcParams"
   ]
  },
  {
   "cell_type": "code",
   "execution_count": 2,
   "metadata": {},
   "outputs": [],
   "source": [
    "iris_data = pd.read_csv(\"iris.data\")"
   ]
  },
  {
   "cell_type": "code",
   "execution_count": 3,
   "metadata": {},
   "outputs": [
    {
     "data": {
      "text/html": [
       "<div>\n",
       "<style scoped>\n",
       "    .dataframe tbody tr th:only-of-type {\n",
       "        vertical-align: middle;\n",
       "    }\n",
       "\n",
       "    .dataframe tbody tr th {\n",
       "        vertical-align: top;\n",
       "    }\n",
       "\n",
       "    .dataframe thead th {\n",
       "        text-align: right;\n",
       "    }\n",
       "</style>\n",
       "<table border=\"1\" class=\"dataframe\">\n",
       "  <thead>\n",
       "    <tr style=\"text-align: right;\">\n",
       "      <th></th>\n",
       "      <th>sepal length</th>\n",
       "      <th>sepal width</th>\n",
       "      <th>petal length</th>\n",
       "      <th>petal width</th>\n",
       "      <th>class</th>\n",
       "    </tr>\n",
       "  </thead>\n",
       "  <tbody>\n",
       "    <tr>\n",
       "      <th>0</th>\n",
       "      <td>4.9</td>\n",
       "      <td>3.0</td>\n",
       "      <td>1.4</td>\n",
       "      <td>0.2</td>\n",
       "      <td>Iris-setosa</td>\n",
       "    </tr>\n",
       "    <tr>\n",
       "      <th>1</th>\n",
       "      <td>4.7</td>\n",
       "      <td>3.2</td>\n",
       "      <td>1.3</td>\n",
       "      <td>0.2</td>\n",
       "      <td>Iris-setosa</td>\n",
       "    </tr>\n",
       "    <tr>\n",
       "      <th>2</th>\n",
       "      <td>4.6</td>\n",
       "      <td>3.1</td>\n",
       "      <td>1.5</td>\n",
       "      <td>0.2</td>\n",
       "      <td>Iris-setosa</td>\n",
       "    </tr>\n",
       "    <tr>\n",
       "      <th>3</th>\n",
       "      <td>5.0</td>\n",
       "      <td>3.6</td>\n",
       "      <td>1.4</td>\n",
       "      <td>0.2</td>\n",
       "      <td>Iris-setosa</td>\n",
       "    </tr>\n",
       "    <tr>\n",
       "      <th>4</th>\n",
       "      <td>5.4</td>\n",
       "      <td>3.9</td>\n",
       "      <td>1.7</td>\n",
       "      <td>0.4</td>\n",
       "      <td>Iris-setosa</td>\n",
       "    </tr>\n",
       "    <tr>\n",
       "      <th>...</th>\n",
       "      <td>...</td>\n",
       "      <td>...</td>\n",
       "      <td>...</td>\n",
       "      <td>...</td>\n",
       "      <td>...</td>\n",
       "    </tr>\n",
       "    <tr>\n",
       "      <th>144</th>\n",
       "      <td>6.7</td>\n",
       "      <td>3.0</td>\n",
       "      <td>5.2</td>\n",
       "      <td>2.3</td>\n",
       "      <td>Iris-virginica</td>\n",
       "    </tr>\n",
       "    <tr>\n",
       "      <th>145</th>\n",
       "      <td>6.3</td>\n",
       "      <td>2.5</td>\n",
       "      <td>5.0</td>\n",
       "      <td>1.9</td>\n",
       "      <td>Iris-virginica</td>\n",
       "    </tr>\n",
       "    <tr>\n",
       "      <th>146</th>\n",
       "      <td>6.5</td>\n",
       "      <td>3.0</td>\n",
       "      <td>5.2</td>\n",
       "      <td>2.0</td>\n",
       "      <td>Iris-virginica</td>\n",
       "    </tr>\n",
       "    <tr>\n",
       "      <th>147</th>\n",
       "      <td>6.2</td>\n",
       "      <td>3.4</td>\n",
       "      <td>5.4</td>\n",
       "      <td>2.3</td>\n",
       "      <td>Iris-virginica</td>\n",
       "    </tr>\n",
       "    <tr>\n",
       "      <th>148</th>\n",
       "      <td>5.9</td>\n",
       "      <td>3.0</td>\n",
       "      <td>5.1</td>\n",
       "      <td>1.8</td>\n",
       "      <td>Iris-virginica</td>\n",
       "    </tr>\n",
       "  </tbody>\n",
       "</table>\n",
       "<p>149 rows × 5 columns</p>\n",
       "</div>"
      ],
      "text/plain": [
       "     sepal length  sepal width  petal length  petal width           class\n",
       "0             4.9          3.0           1.4          0.2     Iris-setosa\n",
       "1             4.7          3.2           1.3          0.2     Iris-setosa\n",
       "2             4.6          3.1           1.5          0.2     Iris-setosa\n",
       "3             5.0          3.6           1.4          0.2     Iris-setosa\n",
       "4             5.4          3.9           1.7          0.4     Iris-setosa\n",
       "..            ...          ...           ...          ...             ...\n",
       "144           6.7          3.0           5.2          2.3  Iris-virginica\n",
       "145           6.3          2.5           5.0          1.9  Iris-virginica\n",
       "146           6.5          3.0           5.2          2.0  Iris-virginica\n",
       "147           6.2          3.4           5.4          2.3  Iris-virginica\n",
       "148           5.9          3.0           5.1          1.8  Iris-virginica\n",
       "\n",
       "[149 rows x 5 columns]"
      ]
     },
     "execution_count": 3,
     "metadata": {},
     "output_type": "execute_result"
    }
   ],
   "source": [
    "iris_data.columns =[\"sepal length\",\"sepal width\",\"petal length\",\"petal width\",\"class\"]\n",
    "iris_data"
   ]
  },
  {
   "cell_type": "markdown",
   "metadata": {},
   "source": [
    "## Normalizing Numerical Data Using min-max"
   ]
  },
  {
   "cell_type": "code",
   "execution_count": 4,
   "metadata": {},
   "outputs": [],
   "source": [
    "iris_minmax = iris_data.copy()"
   ]
  },
  {
   "cell_type": "code",
   "execution_count": 5,
   "metadata": {},
   "outputs": [],
   "source": [
    "# Normalizing sepal_length\n",
    "iris_minmax[\"sepal length\"]=[(i-min(iris_data[\"sepal length\"]))/ (max(iris_data[\"sepal length\"])-min(iris_data[\"sepal length\"])) for i in iris_data['sepal length']]"
   ]
  },
  {
   "cell_type": "code",
   "execution_count": 6,
   "metadata": {},
   "outputs": [],
   "source": [
    "# Normalizing sepal_width\n",
    "iris_minmax[\"sepal width\"]=[(i-min(iris_data[\"sepal width\"]))/ (max(iris_data[\"sepal width\"])-min(iris_data[\"sepal width\"])) for i in iris_data['sepal width']]"
   ]
  },
  {
   "cell_type": "code",
   "execution_count": 7,
   "metadata": {},
   "outputs": [],
   "source": [
    "# Normalizing petal_length\n",
    "iris_minmax[\"petal length\"]=[(i-min(iris_data[\"petal length\"]))/ (max(iris_data[\"petal length\"])-min(iris_data[\"petal length\"])) for i in iris_data['petal length']]"
   ]
  },
  {
   "cell_type": "code",
   "execution_count": 8,
   "metadata": {},
   "outputs": [],
   "source": [
    "# Normalizing petal_width\n",
    "iris_minmax[\"petal width\"]=[(i-min(iris_data[\"petal width\"]))/ (max(iris_data[\"petal width\"])-min(iris_data[\"petal width\"])) for i in iris_data['petal width']]"
   ]
  },
  {
   "cell_type": "code",
   "execution_count": 9,
   "metadata": {},
   "outputs": [
    {
     "data": {
      "text/html": [
       "<div>\n",
       "<style scoped>\n",
       "    .dataframe tbody tr th:only-of-type {\n",
       "        vertical-align: middle;\n",
       "    }\n",
       "\n",
       "    .dataframe tbody tr th {\n",
       "        vertical-align: top;\n",
       "    }\n",
       "\n",
       "    .dataframe thead th {\n",
       "        text-align: right;\n",
       "    }\n",
       "</style>\n",
       "<table border=\"1\" class=\"dataframe\">\n",
       "  <thead>\n",
       "    <tr style=\"text-align: right;\">\n",
       "      <th></th>\n",
       "      <th>sepal length</th>\n",
       "      <th>sepal width</th>\n",
       "      <th>petal length</th>\n",
       "      <th>petal width</th>\n",
       "      <th>class</th>\n",
       "    </tr>\n",
       "  </thead>\n",
       "  <tbody>\n",
       "    <tr>\n",
       "      <th>0</th>\n",
       "      <td>0.166667</td>\n",
       "      <td>0.416667</td>\n",
       "      <td>0.067797</td>\n",
       "      <td>0.041667</td>\n",
       "      <td>Iris-setosa</td>\n",
       "    </tr>\n",
       "    <tr>\n",
       "      <th>1</th>\n",
       "      <td>0.111111</td>\n",
       "      <td>0.500000</td>\n",
       "      <td>0.050847</td>\n",
       "      <td>0.041667</td>\n",
       "      <td>Iris-setosa</td>\n",
       "    </tr>\n",
       "    <tr>\n",
       "      <th>2</th>\n",
       "      <td>0.083333</td>\n",
       "      <td>0.458333</td>\n",
       "      <td>0.084746</td>\n",
       "      <td>0.041667</td>\n",
       "      <td>Iris-setosa</td>\n",
       "    </tr>\n",
       "    <tr>\n",
       "      <th>3</th>\n",
       "      <td>0.194444</td>\n",
       "      <td>0.666667</td>\n",
       "      <td>0.067797</td>\n",
       "      <td>0.041667</td>\n",
       "      <td>Iris-setosa</td>\n",
       "    </tr>\n",
       "    <tr>\n",
       "      <th>4</th>\n",
       "      <td>0.305556</td>\n",
       "      <td>0.791667</td>\n",
       "      <td>0.118644</td>\n",
       "      <td>0.125000</td>\n",
       "      <td>Iris-setosa</td>\n",
       "    </tr>\n",
       "    <tr>\n",
       "      <th>...</th>\n",
       "      <td>...</td>\n",
       "      <td>...</td>\n",
       "      <td>...</td>\n",
       "      <td>...</td>\n",
       "      <td>...</td>\n",
       "    </tr>\n",
       "    <tr>\n",
       "      <th>144</th>\n",
       "      <td>0.666667</td>\n",
       "      <td>0.416667</td>\n",
       "      <td>0.711864</td>\n",
       "      <td>0.916667</td>\n",
       "      <td>Iris-virginica</td>\n",
       "    </tr>\n",
       "    <tr>\n",
       "      <th>145</th>\n",
       "      <td>0.555556</td>\n",
       "      <td>0.208333</td>\n",
       "      <td>0.677966</td>\n",
       "      <td>0.750000</td>\n",
       "      <td>Iris-virginica</td>\n",
       "    </tr>\n",
       "    <tr>\n",
       "      <th>146</th>\n",
       "      <td>0.611111</td>\n",
       "      <td>0.416667</td>\n",
       "      <td>0.711864</td>\n",
       "      <td>0.791667</td>\n",
       "      <td>Iris-virginica</td>\n",
       "    </tr>\n",
       "    <tr>\n",
       "      <th>147</th>\n",
       "      <td>0.527778</td>\n",
       "      <td>0.583333</td>\n",
       "      <td>0.745763</td>\n",
       "      <td>0.916667</td>\n",
       "      <td>Iris-virginica</td>\n",
       "    </tr>\n",
       "    <tr>\n",
       "      <th>148</th>\n",
       "      <td>0.444444</td>\n",
       "      <td>0.416667</td>\n",
       "      <td>0.694915</td>\n",
       "      <td>0.708333</td>\n",
       "      <td>Iris-virginica</td>\n",
       "    </tr>\n",
       "  </tbody>\n",
       "</table>\n",
       "<p>149 rows × 5 columns</p>\n",
       "</div>"
      ],
      "text/plain": [
       "     sepal length  sepal width  petal length  petal width           class\n",
       "0        0.166667     0.416667      0.067797     0.041667     Iris-setosa\n",
       "1        0.111111     0.500000      0.050847     0.041667     Iris-setosa\n",
       "2        0.083333     0.458333      0.084746     0.041667     Iris-setosa\n",
       "3        0.194444     0.666667      0.067797     0.041667     Iris-setosa\n",
       "4        0.305556     0.791667      0.118644     0.125000     Iris-setosa\n",
       "..            ...          ...           ...          ...             ...\n",
       "144      0.666667     0.416667      0.711864     0.916667  Iris-virginica\n",
       "145      0.555556     0.208333      0.677966     0.750000  Iris-virginica\n",
       "146      0.611111     0.416667      0.711864     0.791667  Iris-virginica\n",
       "147      0.527778     0.583333      0.745763     0.916667  Iris-virginica\n",
       "148      0.444444     0.416667      0.694915     0.708333  Iris-virginica\n",
       "\n",
       "[149 rows x 5 columns]"
      ]
     },
     "execution_count": 9,
     "metadata": {},
     "output_type": "execute_result"
    }
   ],
   "source": [
    "# Normalized data set\n",
    "iris_minmax"
   ]
  },
  {
   "cell_type": "markdown",
   "metadata": {},
   "source": [
    "## Normalizing with z-score method"
   ]
  },
  {
   "cell_type": "code",
   "execution_count": 10,
   "metadata": {},
   "outputs": [],
   "source": [
    "iris_zscore = iris_data.copy()"
   ]
  },
  {
   "cell_type": "code",
   "execution_count": 11,
   "metadata": {},
   "outputs": [],
   "source": [
    "# Normalizing sepal_length\n",
    "iris_zscore[\"sepal length\"]=[(i-np.mean(iris_data[\"sepal length\"]))/ (np.std(iris_data[\"sepal length\"])) for i in iris_data['sepal length']]"
   ]
  },
  {
   "cell_type": "code",
   "execution_count": 12,
   "metadata": {},
   "outputs": [],
   "source": [
    "# Normalizing sepal_width\n",
    "iris_zscore[\"sepal width\"]=[(i-np.mean(iris_data[\"sepal width\"]))/ (np.std(iris_data[\"sepal width\"])) for i in iris_data['sepal width']]"
   ]
  },
  {
   "cell_type": "code",
   "execution_count": 13,
   "metadata": {},
   "outputs": [],
   "source": [
    "# Normalizing petal_length\n",
    "iris_zscore[\"petal length\"]=[(i-np.mean(iris_data[\"petal length\"]))/ (np.std(iris_data[\"petal length\"])) for i in iris_data['petal length']]"
   ]
  },
  {
   "cell_type": "code",
   "execution_count": 14,
   "metadata": {},
   "outputs": [],
   "source": [
    "# Normalizing petal_width\n",
    "iris_zscore[\"petal width\"]=[(i-np.mean(iris_data[\"petal width\"]))/ (np.std(iris_data[\"petal width\"])) for i in iris_data['petal width']]"
   ]
  },
  {
   "cell_type": "code",
   "execution_count": 15,
   "metadata": {},
   "outputs": [
    {
     "data": {
      "text/html": [
       "<div>\n",
       "<style scoped>\n",
       "    .dataframe tbody tr th:only-of-type {\n",
       "        vertical-align: middle;\n",
       "    }\n",
       "\n",
       "    .dataframe tbody tr th {\n",
       "        vertical-align: top;\n",
       "    }\n",
       "\n",
       "    .dataframe thead th {\n",
       "        text-align: right;\n",
       "    }\n",
       "</style>\n",
       "<table border=\"1\" class=\"dataframe\">\n",
       "  <thead>\n",
       "    <tr style=\"text-align: right;\">\n",
       "      <th></th>\n",
       "      <th>sepal length</th>\n",
       "      <th>sepal width</th>\n",
       "      <th>petal length</th>\n",
       "      <th>petal width</th>\n",
       "      <th>class</th>\n",
       "    </tr>\n",
       "  </thead>\n",
       "  <tbody>\n",
       "    <tr>\n",
       "      <th>0</th>\n",
       "      <td>-1.148356</td>\n",
       "      <td>-0.118060</td>\n",
       "      <td>-1.353964</td>\n",
       "      <td>-1.325063</td>\n",
       "      <td>Iris-setosa</td>\n",
       "    </tr>\n",
       "    <tr>\n",
       "      <th>1</th>\n",
       "      <td>-1.390542</td>\n",
       "      <td>0.344859</td>\n",
       "      <td>-1.410986</td>\n",
       "      <td>-1.325063</td>\n",
       "      <td>Iris-setosa</td>\n",
       "    </tr>\n",
       "    <tr>\n",
       "      <th>2</th>\n",
       "      <td>-1.511636</td>\n",
       "      <td>0.113399</td>\n",
       "      <td>-1.296943</td>\n",
       "      <td>-1.325063</td>\n",
       "      <td>Iris-setosa</td>\n",
       "    </tr>\n",
       "    <tr>\n",
       "      <th>3</th>\n",
       "      <td>-1.027262</td>\n",
       "      <td>1.270695</td>\n",
       "      <td>-1.353964</td>\n",
       "      <td>-1.325063</td>\n",
       "      <td>Iris-setosa</td>\n",
       "    </tr>\n",
       "    <tr>\n",
       "      <th>4</th>\n",
       "      <td>-0.542889</td>\n",
       "      <td>1.965072</td>\n",
       "      <td>-1.182901</td>\n",
       "      <td>-1.061466</td>\n",
       "      <td>Iris-setosa</td>\n",
       "    </tr>\n",
       "    <tr>\n",
       "      <th>...</th>\n",
       "      <td>...</td>\n",
       "      <td>...</td>\n",
       "      <td>...</td>\n",
       "      <td>...</td>\n",
       "      <td>...</td>\n",
       "    </tr>\n",
       "    <tr>\n",
       "      <th>144</th>\n",
       "      <td>1.031326</td>\n",
       "      <td>-0.118060</td>\n",
       "      <td>0.812838</td>\n",
       "      <td>1.442709</td>\n",
       "      <td>Iris-virginica</td>\n",
       "    </tr>\n",
       "    <tr>\n",
       "      <th>145</th>\n",
       "      <td>0.546952</td>\n",
       "      <td>-1.275355</td>\n",
       "      <td>0.698796</td>\n",
       "      <td>0.915514</td>\n",
       "      <td>Iris-virginica</td>\n",
       "    </tr>\n",
       "    <tr>\n",
       "      <th>146</th>\n",
       "      <td>0.789139</td>\n",
       "      <td>-0.118060</td>\n",
       "      <td>0.812838</td>\n",
       "      <td>1.047313</td>\n",
       "      <td>Iris-virginica</td>\n",
       "    </tr>\n",
       "    <tr>\n",
       "      <th>147</th>\n",
       "      <td>0.425859</td>\n",
       "      <td>0.807777</td>\n",
       "      <td>0.926880</td>\n",
       "      <td>1.442709</td>\n",
       "      <td>Iris-virginica</td>\n",
       "    </tr>\n",
       "    <tr>\n",
       "      <th>148</th>\n",
       "      <td>0.062578</td>\n",
       "      <td>-0.118060</td>\n",
       "      <td>0.755817</td>\n",
       "      <td>0.783716</td>\n",
       "      <td>Iris-virginica</td>\n",
       "    </tr>\n",
       "  </tbody>\n",
       "</table>\n",
       "<p>149 rows × 5 columns</p>\n",
       "</div>"
      ],
      "text/plain": [
       "     sepal length  sepal width  petal length  petal width           class\n",
       "0       -1.148356    -0.118060     -1.353964    -1.325063     Iris-setosa\n",
       "1       -1.390542     0.344859     -1.410986    -1.325063     Iris-setosa\n",
       "2       -1.511636     0.113399     -1.296943    -1.325063     Iris-setosa\n",
       "3       -1.027262     1.270695     -1.353964    -1.325063     Iris-setosa\n",
       "4       -0.542889     1.965072     -1.182901    -1.061466     Iris-setosa\n",
       "..            ...          ...           ...          ...             ...\n",
       "144      1.031326    -0.118060      0.812838     1.442709  Iris-virginica\n",
       "145      0.546952    -1.275355      0.698796     0.915514  Iris-virginica\n",
       "146      0.789139    -0.118060      0.812838     1.047313  Iris-virginica\n",
       "147      0.425859     0.807777      0.926880     1.442709  Iris-virginica\n",
       "148      0.062578    -0.118060      0.755817     0.783716  Iris-virginica\n",
       "\n",
       "[149 rows x 5 columns]"
      ]
     },
     "execution_count": 15,
     "metadata": {},
     "output_type": "execute_result"
    }
   ],
   "source": [
    "iris_zscore"
   ]
  },
  {
   "cell_type": "markdown",
   "metadata": {},
   "source": [
    "## (2)(a)(1) K-Mean Method with Euclidean Distance"
   ]
  },
  {
   "cell_type": "code",
   "execution_count": 16,
   "metadata": {},
   "outputs": [],
   "source": [
    "import copy\n",
    "\n",
    "# Euclidian Distance Approach\n",
    "\n",
    "def Euclidian(X,centroids):\n",
    "    X_out = X.copy()\n",
    "    for i in centroids.keys():\n",
    "        X_out[\"distance_from_{}\".format(i)] = np.array(np.sqrt(((X-centroids[i])**2).sum(axis = 1)))  # Euclidian Distance\n",
    "    centroid_distance = [\"distance_from_{}\".format(i) for i in centroids.keys()] # distance of every point from every centroid\n",
    "    X_out[\"closest\"] = X_out.loc[:,centroid_distance].idxmin(axis=1)\n",
    "    X_out[\"closest\"] = X_out[\"closest\"].map(lambda x: int(x.lstrip(\"distance_from\")))\n",
    "    X_out[\"color\"] = X_out[\"closest\"].map(lambda x:colors[x]) # clustering the points to the closest centroid in corresponded color\n",
    "    return X_out\n",
    "\n",
    "# centroids optimazition\n",
    "\n",
    "def opt(X_dist, centroids):\n",
    "    for i in centroids.keys():\n",
    "        centroids[i] = np.array(X[X_dist[\"closest\"] == i].mean(axis = 0))\n",
    "    return centroids"
   ]
  },
  {
   "cell_type": "markdown",
   "metadata": {},
   "source": [
    "#### Select the number of clusters"
   ]
  },
  {
   "cell_type": "code",
   "execution_count": 17,
   "metadata": {},
   "outputs": [
    {
     "name": "stderr",
     "output_type": "stream",
     "text": [
      "C:\\Users\\Jiunn Yih Lee\\anaconda3\\lib\\site-packages\\sklearn\\cluster\\_kmeans.py:881: UserWarning: KMeans is known to have a memory leak on Windows with MKL, when there are less chunks than available threads. You can avoid it by setting the environment variable OMP_NUM_THREADS=1.\n",
      "  warnings.warn(\n"
     ]
    }
   ],
   "source": [
    "# Drop \"class\" column\n",
    "X = iris_minmax.drop(\"class\",axis=1)\n",
    "\n",
    "# Finding distance points from cluster center\n",
    "center = []\n",
    "K = range(1,10)\n",
    "for i in K:\n",
    "    k_model = KMeans(n_clusters = i)\n",
    "    k_model.fit(X)\n",
    "    center.append(k_model.inertia_)"
   ]
  },
  {
   "cell_type": "code",
   "execution_count": 18,
   "metadata": {
    "scrolled": true
   },
   "outputs": [
    {
     "data": {
      "text/plain": [
       "[<matplotlib.lines.Line2D at 0x28c5e6de730>]"
      ]
     },
     "execution_count": 18,
     "metadata": {},
     "output_type": "execute_result"
    },
    {
     "data": {
      "image/png": "[encoded data removed]",
      "text/plain": [
       "<Figure size 432x288 with 1 Axes>"
      ]
     },
     "metadata": {
      "needs_background": "light"
     },
     "output_type": "display_data"
    }
   ],
   "source": [
    "# using elbow method for optimal value of k, which is 3 in this case\n",
    "plt.plot(K,center)"
   ]
  },
  {
   "cell_type": "markdown",
   "metadata": {},
   "source": [
    "We select 3 clusters for this dataset"
   ]
  },
  {
   "cell_type": "code",
   "execution_count": 19,
   "metadata": {},
   "outputs": [],
   "source": [
    "k = 3"
   ]
  },
  {
   "cell_type": "markdown",
   "metadata": {},
   "source": [
    "#### Using Min-Max method to normalize"
   ]
  },
  {
   "cell_type": "code",
   "execution_count": 20,
   "metadata": {},
   "outputs": [],
   "source": [
    "X = iris_minmax[[\"sepal length\",\"sepal width\", \"petal length\", \"petal width\"]]"
   ]
  },
  {
   "cell_type": "code",
   "execution_count": 21,
   "metadata": {
    "scrolled": true
   },
   "outputs": [
    {
     "data": {
      "text/html": [
       "<div>\n",
       "<style scoped>\n",
       "    .dataframe tbody tr th:only-of-type {\n",
       "        vertical-align: middle;\n",
       "    }\n",
       "\n",
       "    .dataframe tbody tr th {\n",
       "        vertical-align: top;\n",
       "    }\n",
       "\n",
       "    .dataframe thead th {\n",
       "        text-align: right;\n",
       "    }\n",
       "</style>\n",
       "<table border=\"1\" class=\"dataframe\">\n",
       "  <thead>\n",
       "    <tr style=\"text-align: right;\">\n",
       "      <th></th>\n",
       "      <th>sepal length</th>\n",
       "      <th>sepal width</th>\n",
       "      <th>petal length</th>\n",
       "      <th>petal width</th>\n",
       "    </tr>\n",
       "  </thead>\n",
       "  <tbody>\n",
       "    <tr>\n",
       "      <th>count</th>\n",
       "      <td>149.000000</td>\n",
       "      <td>149.000000</td>\n",
       "      <td>149.000000</td>\n",
       "      <td>149.000000</td>\n",
       "    </tr>\n",
       "    <tr>\n",
       "      <th>mean</th>\n",
       "      <td>0.430089</td>\n",
       "      <td>0.437919</td>\n",
       "      <td>0.470254</td>\n",
       "      <td>0.460570</td>\n",
       "    </tr>\n",
       "    <tr>\n",
       "      <th>std</th>\n",
       "      <td>0.230165</td>\n",
       "      <td>0.180625</td>\n",
       "      <td>0.298246</td>\n",
       "      <td>0.317205</td>\n",
       "    </tr>\n",
       "    <tr>\n",
       "      <th>min</th>\n",
       "      <td>0.000000</td>\n",
       "      <td>0.000000</td>\n",
       "      <td>0.000000</td>\n",
       "      <td>0.000000</td>\n",
       "    </tr>\n",
       "    <tr>\n",
       "      <th>25%</th>\n",
       "      <td>0.222222</td>\n",
       "      <td>0.333333</td>\n",
       "      <td>0.101695</td>\n",
       "      <td>0.083333</td>\n",
       "    </tr>\n",
       "    <tr>\n",
       "      <th>50%</th>\n",
       "      <td>0.416667</td>\n",
       "      <td>0.416667</td>\n",
       "      <td>0.576271</td>\n",
       "      <td>0.500000</td>\n",
       "    </tr>\n",
       "    <tr>\n",
       "      <th>75%</th>\n",
       "      <td>0.583333</td>\n",
       "      <td>0.541667</td>\n",
       "      <td>0.694915</td>\n",
       "      <td>0.708333</td>\n",
       "    </tr>\n",
       "    <tr>\n",
       "      <th>max</th>\n",
       "      <td>1.000000</td>\n",
       "      <td>1.000000</td>\n",
       "      <td>1.000000</td>\n",
       "      <td>1.000000</td>\n",
       "    </tr>\n",
       "  </tbody>\n",
       "</table>\n",
       "</div>"
      ],
      "text/plain": [
       "       sepal length  sepal width  petal length  petal width\n",
       "count    149.000000   149.000000    149.000000   149.000000\n",
       "mean       0.430089     0.437919      0.470254     0.460570\n",
       "std        0.230165     0.180625      0.298246     0.317205\n",
       "min        0.000000     0.000000      0.000000     0.000000\n",
       "25%        0.222222     0.333333      0.101695     0.083333\n",
       "50%        0.416667     0.416667      0.576271     0.500000\n",
       "75%        0.583333     0.541667      0.694915     0.708333\n",
       "max        1.000000     1.000000      1.000000     1.000000"
      ]
     },
     "execution_count": 21,
     "metadata": {},
     "output_type": "execute_result"
    }
   ],
   "source": [
    "X.describe()"
   ]
  },
  {
   "cell_type": "code",
   "execution_count": 22,
   "metadata": {},
   "outputs": [],
   "source": [
    "# randomly pick three centroids in the randomly distributed data \n",
    "np.random.seed(202)\n",
    "centers_index = np.random.choice(np.arange(X.shape[0]), size = k, replace = False)\n",
    "centroids = {i+1: np.array(X.iloc[centers_index[i]]) for i in range(k)}"
   ]
  },
  {
   "cell_type": "code",
   "execution_count": 23,
   "metadata": {},
   "outputs": [
    {
     "data": {
      "image/png": "[encoded data removed]",
      "text/plain": [
       "<Figure size 720x360 with 1 Axes>"
      ]
     },
     "metadata": {
      "needs_background": "light"
     },
     "output_type": "display_data"
    }
   ],
   "source": [
    "fig = plt.figure(figsize=(10,5))\n",
    "plt.scatter(X[\"sepal length\"],X[\"sepal width\"],color=\"k\")\n",
    "\n",
    "# make three centroids color in red, yellow and blue\n",
    "colors = {1:\"r\",2:\"y\",3:\"b\"}\n",
    "for i in centroids.keys():\n",
    "    plt.scatter(*centroids[i][:2],color=colors[i])\n",
    "\n",
    "plt.show()"
   ]
  },
  {
   "cell_type": "code",
   "execution_count": 24,
   "metadata": {},
   "outputs": [
    {
     "data": {
      "image/png": "[encoded data removed]",
      "text/plain": [
       "<Figure size 720x360 with 1 Axes>"
      ]
     },
     "metadata": {
      "needs_background": "light"
     },
     "output_type": "display_data"
    }
   ],
   "source": [
    "# cluster result based on the intial random centroids\n",
    "X_dist = Euclidian(X,centroids)\n",
    "fig = plt.figure(figsize=(10,5))\n",
    "plt.scatter(X_dist[\"sepal length\"],X_dist[\"sepal width\"],alpha = 0.2,color = X_dist[\"color\"],edgecolor=\"k\")\n",
    "for i in centroids.keys():\n",
    "    plt.scatter(*centroids[i][:2],color=colors[i][:2])\n",
    "plt.show()\n",
    "         "
   ]
  },
  {
   "cell_type": "code",
   "execution_count": 25,
   "metadata": {},
   "outputs": [
    {
     "name": "stdout",
     "output_type": "stream",
     "text": [
      "Iteration 1.\n",
      "1    59\n",
      "3    49\n",
      "2    41\n",
      "Name: closest, dtype: int64\n",
      "Iteration 2.\n",
      "1    60\n",
      "3    49\n",
      "2    40\n",
      "Name: closest, dtype: int64\n",
      "Iteration 3.\n",
      "1    61\n",
      "3    49\n",
      "2    39\n",
      "Name: closest, dtype: int64\n",
      "Iteration 4.\n",
      "1    61\n",
      "3    49\n",
      "2    39\n",
      "Name: closest, dtype: int64\n"
     ]
    }
   ],
   "source": [
    "# repeat the steps until the clusters don't move anymore\n",
    "count = 0\n",
    "while True:\n",
    "    count += 1\n",
    "    print(\"Iteration %d.\" % count)\n",
    "    centroids_closest = X_dist[\"closest\"].copy(deep=True)\n",
    "    centroids = opt(X_dist, centroids)   # # repeat the previous optimazation for further optimization\n",
    "    X_dist = Euclidian(X,centroids)\n",
    "    print(X_dist.closest.value_counts())\n",
    "    if centroids_closest.equals(X_dist[\"closest\"]):\n",
    "        break"
   ]
  },
  {
   "cell_type": "code",
   "execution_count": 26,
   "metadata": {
    "scrolled": true
   },
   "outputs": [
    {
     "data": {
      "image/png": "[encoded data removed]",
      "text/plain": [
       "<Figure size 720x360 with 1 Axes>"
      ]
     },
     "metadata": {
      "needs_background": "light"
     },
     "output_type": "display_data"
    }
   ],
   "source": [
    "# Plot the graph\n",
    "fig = plt.figure(figsize=(10,5))\n",
    "plt.scatter(X[\"sepal length\"],X[\"sepal width\"],alpha = 0.2,color = X_dist[\"color\"],edgecolor=\"k\")\n",
    "for i in centroids.keys():\n",
    "    plt.scatter(*centroids[i][:2],color=colors[i])\n",
    "plt.title(\"KMeans clustering, with Euclidean distance, result based on min-max normalization.\")\n",
    "plt.show()"
   ]
  },
  {
   "cell_type": "code",
   "execution_count": 27,
   "metadata": {},
   "outputs": [],
   "source": [
    "# save the final result\n",
    "X_euc_minmax = X_dist.copy()"
   ]
  },
  {
   "cell_type": "markdown",
   "metadata": {},
   "source": [
    "#### Using z-score method to normalize"
   ]
  },
  {
   "cell_type": "code",
   "execution_count": 28,
   "metadata": {},
   "outputs": [],
   "source": [
    "X = iris_zscore[[\"sepal length\",\"sepal width\", \"petal length\", \"petal width\"]]"
   ]
  },
  {
   "cell_type": "code",
   "execution_count": 29,
   "metadata": {},
   "outputs": [],
   "source": [
    "# repeat the same steps as we did in min-max method for z-score method\n",
    "np.random.seed(202)\n",
    "centers_index = np.random.choice(np.arange(X.shape[0]), size = k, replace = False)\n",
    "centroids = {i+1: np.array(X.iloc[centers_index[i]]) for i in range(k)}"
   ]
  },
  {
   "cell_type": "code",
   "execution_count": 30,
   "metadata": {},
   "outputs": [],
   "source": [
    "X_dist = Euclidian(X,centroids)"
   ]
  },
  {
   "cell_type": "code",
   "execution_count": 31,
   "metadata": {},
   "outputs": [
    {
     "name": "stdout",
     "output_type": "stream",
     "text": [
      "Iteration 1.\n",
      "2    50\n",
      "1    50\n",
      "3    49\n",
      "Name: closest, dtype: int64\n",
      "Iteration 2.\n",
      "1    51\n",
      "3    49\n",
      "2    49\n",
      "Name: closest, dtype: int64\n",
      "Iteration 3.\n",
      "1    52\n",
      "3    49\n",
      "2    48\n",
      "Name: closest, dtype: int64\n",
      "Iteration 4.\n",
      "1    52\n",
      "3    49\n",
      "2    48\n",
      "Name: closest, dtype: int64\n"
     ]
    }
   ],
   "source": [
    "# repeat the steps until the clusters don't move anymore\n",
    "count = 0\n",
    "while True:\n",
    "    count += 1\n",
    "    print(\"Iteration %d.\" % count)\n",
    "    centroids_closest = X_dist[\"closest\"].copy(deep=True)\n",
    "    centroids = opt(X_dist, centroids)\n",
    "    X_dist = Euclidian(X,centroids)\n",
    "    print(X_dist.closest.value_counts())\n",
    "    if centroids_closest.equals(X_dist[\"closest\"]):\n",
    "        break"
   ]
  },
  {
   "cell_type": "code",
   "execution_count": 32,
   "metadata": {},
   "outputs": [
    {
     "data": {
      "image/png": "[encoded data removed]",
      "text/plain": [
       "<Figure size 720x360 with 1 Axes>"
      ]
     },
     "metadata": {
      "needs_background": "light"
     },
     "output_type": "display_data"
    }
   ],
   "source": [
    "# plot the graph\n",
    "fig = plt.figure(figsize=(10,5))\n",
    "plt.scatter(X[\"sepal length\"],X[\"sepal width\"],alpha = 0.2,color = X_dist[\"color\"],edgecolor=\"k\")\n",
    "for i in centroids.keys():\n",
    "    plt.scatter(*centroids[i][:2],color=colors[i])\n",
    "plt.title(\"KMeans clustering, with Euclidean distance, result based on z-score normalization.\")\n",
    "plt.show()"
   ]
  },
  {
   "cell_type": "code",
   "execution_count": 33,
   "metadata": {},
   "outputs": [],
   "source": [
    "# save final result\n",
    "X_euc_zscore = X_dist"
   ]
  },
  {
   "cell_type": "markdown",
   "metadata": {},
   "source": [
    "## (2)(a)(2) K-Mean Method with Manhattan Distance"
   ]
  },
  {
   "cell_type": "code",
   "execution_count": 34,
   "metadata": {},
   "outputs": [],
   "source": [
    "# repeat function definition steps we did for Euclidian distance, but replace the Euclidian distance formula with Manhattan distance formula\n",
    "def Manhattan(X,centroids):\n",
    "    X_out = X.copy()\n",
    "    for i in centroids.keys():\n",
    "        X_out[\"distance_from_{}\".format(i)] = np.array((np.abs(X-centroids[i])).sum(axis = 1))  # manhattan distance\n",
    "    centroid_distance = [\"distance_from_{}\".format(i) for i in centroids.keys()]\n",
    "    X_out[\"closest\"] = X_out.loc[:,centroid_distance].idxmin(axis=1)\n",
    "    X_out[\"closest\"] = X_out[\"closest\"].map(lambda x: int(x.lstrip(\"distance_from\")))\n",
    "    X_out[\"color\"] = X_out[\"closest\"].map(lambda x:colors[x])\n",
    "    return X_out"
   ]
  },
  {
   "cell_type": "markdown",
   "metadata": {},
   "source": [
    "#### Using min-max to normalize the data"
   ]
  },
  {
   "cell_type": "code",
   "execution_count": 35,
   "metadata": {},
   "outputs": [],
   "source": [
    "X = iris_minmax[[\"sepal length\",\"sepal width\", \"petal length\", \"petal width\"]]"
   ]
  },
  {
   "cell_type": "code",
   "execution_count": 36,
   "metadata": {},
   "outputs": [],
   "source": [
    "# randomly pick three centroids(x,y) in the randomly distributed data \n",
    "np.random.seed(202)\n",
    "centers_index = np.random.choice(np.arange(X.shape[0]), size = k, replace = False)\n",
    "centroids = {i+1: np.array(X.iloc[centers_index[i]]) for i in range(k)}"
   ]
  },
  {
   "cell_type": "code",
   "execution_count": 37,
   "metadata": {},
   "outputs": [],
   "source": [
    "X_dist = Manhattan(X,centroids)"
   ]
  },
  {
   "cell_type": "code",
   "execution_count": 38,
   "metadata": {},
   "outputs": [
    {
     "name": "stdout",
     "output_type": "stream",
     "text": [
      "Iteration 1.\n",
      "1    58\n",
      "3    49\n",
      "2    42\n",
      "Name: closest, dtype: int64\n",
      "Iteration 2.\n",
      "1    61\n",
      "3    49\n",
      "2    39\n",
      "Name: closest, dtype: int64\n",
      "Iteration 3.\n",
      "1    61\n",
      "3    49\n",
      "2    39\n",
      "Name: closest, dtype: int64\n"
     ]
    }
   ],
   "source": [
    "# repeat the steps until the clusters don't move anymore\n",
    "count = 0\n",
    "while True:\n",
    "    count += 1\n",
    "    print(\"Iteration %d.\" % count)\n",
    "    centroids_closest = X_dist[\"closest\"].copy(deep=True)\n",
    "    centroids = opt(X_dist, centroids)\n",
    "    X_dist = Manhattan(X,centroids)\n",
    "    print(X_dist.closest.value_counts())\n",
    "    if centroids_closest.equals(X_dist[\"closest\"]):\n",
    "        break"
   ]
  },
  {
   "cell_type": "code",
   "execution_count": 39,
   "metadata": {},
   "outputs": [
    {
     "data": {
      "image/png": "[encoded data removed]",
      "text/plain": [
       "<Figure size 720x360 with 1 Axes>"
      ]
     },
     "metadata": {
      "needs_background": "light"
     },
     "output_type": "display_data"
    }
   ],
   "source": [
    "# plot the graph\n",
    "fig = plt.figure(figsize=(10,5))\n",
    "plt.scatter(X[\"sepal length\"],X[\"sepal width\"],alpha = 0.2,color = X_dist[\"color\"], edgecolor=\"k\")\n",
    "for i in centroids.keys():\n",
    "    plt.scatter(*centroids[i][:2],color=colors[i])\n",
    "plt.title(\"KMeans clustering, with Manhattan distance, result based on min-max normalization.\")\n",
    "plt.show()"
   ]
  },
  {
   "cell_type": "code",
   "execution_count": 40,
   "metadata": {},
   "outputs": [],
   "source": [
    "# save final result\n",
    "X_man_minmax = X_dist"
   ]
  },
  {
   "cell_type": "markdown",
   "metadata": {},
   "source": [
    "#### Using z-score to normalize the data"
   ]
  },
  {
   "cell_type": "code",
   "execution_count": 41,
   "metadata": {},
   "outputs": [],
   "source": [
    "X = iris_zscore[[\"sepal length\",\"sepal width\", \"petal length\", \"petal width\"]]"
   ]
  },
  {
   "cell_type": "code",
   "execution_count": 42,
   "metadata": {},
   "outputs": [],
   "source": [
    "# repeat the same steps as we did in min-max,Manhattan method for z-score method\n",
    "np.random.seed(202)\n",
    "centers_index = np.random.choice(np.arange(X.shape[0]), size = k, replace = False)\n",
    "centroids = {i+1: np.array(X.iloc[centers_index[i]]) for i in range(k)}"
   ]
  },
  {
   "cell_type": "code",
   "execution_count": 43,
   "metadata": {},
   "outputs": [],
   "source": [
    "X_dist = Manhattan(X,centroids)"
   ]
  },
  {
   "cell_type": "code",
   "execution_count": 44,
   "metadata": {},
   "outputs": [
    {
     "name": "stdout",
     "output_type": "stream",
     "text": [
      "Iteration 1.\n",
      "1    54\n",
      "3    49\n",
      "2    46\n",
      "Name: closest, dtype: int64\n",
      "Iteration 2.\n",
      "1    56\n",
      "3    49\n",
      "2    44\n",
      "Name: closest, dtype: int64\n",
      "Iteration 3.\n",
      "1    57\n",
      "3    49\n",
      "2    43\n",
      "Name: closest, dtype: int64\n",
      "Iteration 4.\n",
      "1    58\n",
      "3    49\n",
      "2    42\n",
      "Name: closest, dtype: int64\n",
      "Iteration 5.\n",
      "1    59\n",
      "3    49\n",
      "2    41\n",
      "Name: closest, dtype: int64\n",
      "Iteration 6.\n",
      "1    59\n",
      "3    49\n",
      "2    41\n",
      "Name: closest, dtype: int64\n"
     ]
    }
   ],
   "source": [
    "# repeat the steps until the clusters don't move anymore\n",
    "count = 0\n",
    "while True:\n",
    "    count += 1\n",
    "    print(\"Iteration %d.\" % count)\n",
    "    centroids_closest = X_dist[\"closest\"].copy(deep=True)\n",
    "    centroids = opt(X_dist, centroids)\n",
    "    X_dist = Manhattan(X,centroids)\n",
    "    print(X_dist.closest.value_counts())\n",
    "    if centroids_closest.equals(X_dist[\"closest\"]):\n",
    "        break"
   ]
  },
  {
   "cell_type": "code",
   "execution_count": 45,
   "metadata": {
    "scrolled": true
   },
   "outputs": [
    {
     "data": {
      "image/png": "[encoded data removed]",
      "text/plain": [
       "<Figure size 720x360 with 1 Axes>"
      ]
     },
     "metadata": {
      "needs_background": "light"
     },
     "output_type": "display_data"
    }
   ],
   "source": [
    "# plot the graph\n",
    "fig = plt.figure(figsize=(10,5))\n",
    "plt.scatter(X[\"sepal length\"],X[\"sepal width\"],alpha = 0.2,color = X_dist[\"color\"], edgecolor=\"k\")\n",
    "for i in centroids.keys():\n",
    "    plt.scatter(*centroids[i][:2],color=colors[i])\n",
    "plt.title(\"KMeans clustering, with Manhattan distance, result based on z-score normalization.\")\n",
    "plt.show()"
   ]
  },
  {
   "cell_type": "code",
   "execution_count": 46,
   "metadata": {},
   "outputs": [],
   "source": [
    "# save the final result\n",
    "X_man_zscore = X_dist"
   ]
  },
  {
   "cell_type": "markdown",
   "metadata": {},
   "source": [
    "## (2)(b)(1) DBSCAN Method with Euclidean Distance"
   ]
  },
  {
   "cell_type": "code",
   "execution_count": 47,
   "metadata": {},
   "outputs": [],
   "source": [
    "from sklearn.cluster import DBSCAN"
   ]
  },
  {
   "cell_type": "markdown",
   "metadata": {},
   "source": [
    "#### Using min-max to normalize the data"
   ]
  },
  {
   "cell_type": "code",
   "execution_count": 48,
   "metadata": {},
   "outputs": [],
   "source": [
    "X = iris_minmax[[\"sepal length\",\"sepal width\", \"petal length\", \"petal width\"]].copy()"
   ]
  },
  {
   "cell_type": "code",
   "execution_count": 49,
   "metadata": {},
   "outputs": [],
   "source": [
    "# fit the DBSCAN model\n",
    "dbscan_model = DBSCAN(eps=0.25).fit(X)"
   ]
  },
  {
   "cell_type": "code",
   "execution_count": 50,
   "metadata": {},
   "outputs": [
    {
     "data": {
      "text/plain": [
       "array([ 0,  0,  0,  0,  0,  0,  0,  0,  0,  0,  0,  0,  0,  0,  0,  0,  0,\n",
       "        0,  0,  0,  0,  0,  0,  0,  0,  0,  0,  0,  0,  0,  0,  0,  0,  0,\n",
       "        0,  0,  0,  0,  0,  0, -1,  0,  0,  0,  0,  0,  0,  0,  0,  1,  1,\n",
       "        1,  1,  1,  1,  1,  1,  1,  1,  1,  1,  1,  1,  1,  1,  1,  1,  1,\n",
       "        1,  1,  1,  1,  1,  1,  1,  1,  1,  1,  1,  1,  1,  1,  1,  1,  1,\n",
       "        1,  1,  1,  1,  1,  1,  1,  1,  1,  1,  1,  1,  1,  1,  1,  1,  1,\n",
       "        1,  1,  1,  1,  1,  1,  1,  1,  1,  1,  1,  1,  1,  1,  1,  1,  1,\n",
       "        1,  1,  1,  1,  1,  1,  1,  1,  1,  1,  1, -1,  1,  1,  1,  1,  1,\n",
       "        1,  1,  1,  1,  1,  1,  1,  1,  1,  1,  1,  1,  1], dtype=int64)"
      ]
     },
     "execution_count": 50,
     "metadata": {},
     "output_type": "execute_result"
    }
   ],
   "source": [
    "# save the final cluster result\n",
    "X_db_euc_minmax = dbscan_model.labels_\n",
    "X_db_euc_minmax"
   ]
  },
  {
   "cell_type": "markdown",
   "metadata": {},
   "source": [
    "#### Using z-score to normalize the data"
   ]
  },
  {
   "cell_type": "code",
   "execution_count": 51,
   "metadata": {},
   "outputs": [
    {
     "data": {
      "text/html": [
       "<div>\n",
       "<style scoped>\n",
       "    .dataframe tbody tr th:only-of-type {\n",
       "        vertical-align: middle;\n",
       "    }\n",
       "\n",
       "    .dataframe tbody tr th {\n",
       "        vertical-align: top;\n",
       "    }\n",
       "\n",
       "    .dataframe thead th {\n",
       "        text-align: right;\n",
       "    }\n",
       "</style>\n",
       "<table border=\"1\" class=\"dataframe\">\n",
       "  <thead>\n",
       "    <tr style=\"text-align: right;\">\n",
       "      <th></th>\n",
       "      <th>sepal length</th>\n",
       "      <th>sepal width</th>\n",
       "      <th>petal length</th>\n",
       "      <th>petal width</th>\n",
       "    </tr>\n",
       "  </thead>\n",
       "  <tbody>\n",
       "    <tr>\n",
       "      <th>0</th>\n",
       "      <td>-1.148356</td>\n",
       "      <td>-0.118060</td>\n",
       "      <td>-1.353964</td>\n",
       "      <td>-1.325063</td>\n",
       "    </tr>\n",
       "    <tr>\n",
       "      <th>1</th>\n",
       "      <td>-1.390542</td>\n",
       "      <td>0.344859</td>\n",
       "      <td>-1.410986</td>\n",
       "      <td>-1.325063</td>\n",
       "    </tr>\n",
       "    <tr>\n",
       "      <th>2</th>\n",
       "      <td>-1.511636</td>\n",
       "      <td>0.113399</td>\n",
       "      <td>-1.296943</td>\n",
       "      <td>-1.325063</td>\n",
       "    </tr>\n",
       "    <tr>\n",
       "      <th>3</th>\n",
       "      <td>-1.027262</td>\n",
       "      <td>1.270695</td>\n",
       "      <td>-1.353964</td>\n",
       "      <td>-1.325063</td>\n",
       "    </tr>\n",
       "    <tr>\n",
       "      <th>4</th>\n",
       "      <td>-0.542889</td>\n",
       "      <td>1.965072</td>\n",
       "      <td>-1.182901</td>\n",
       "      <td>-1.061466</td>\n",
       "    </tr>\n",
       "    <tr>\n",
       "      <th>...</th>\n",
       "      <td>...</td>\n",
       "      <td>...</td>\n",
       "      <td>...</td>\n",
       "      <td>...</td>\n",
       "    </tr>\n",
       "    <tr>\n",
       "      <th>144</th>\n",
       "      <td>1.031326</td>\n",
       "      <td>-0.118060</td>\n",
       "      <td>0.812838</td>\n",
       "      <td>1.442709</td>\n",
       "    </tr>\n",
       "    <tr>\n",
       "      <th>145</th>\n",
       "      <td>0.546952</td>\n",
       "      <td>-1.275355</td>\n",
       "      <td>0.698796</td>\n",
       "      <td>0.915514</td>\n",
       "    </tr>\n",
       "    <tr>\n",
       "      <th>146</th>\n",
       "      <td>0.789139</td>\n",
       "      <td>-0.118060</td>\n",
       "      <td>0.812838</td>\n",
       "      <td>1.047313</td>\n",
       "    </tr>\n",
       "    <tr>\n",
       "      <th>147</th>\n",
       "      <td>0.425859</td>\n",
       "      <td>0.807777</td>\n",
       "      <td>0.926880</td>\n",
       "      <td>1.442709</td>\n",
       "    </tr>\n",
       "    <tr>\n",
       "      <th>148</th>\n",
       "      <td>0.062578</td>\n",
       "      <td>-0.118060</td>\n",
       "      <td>0.755817</td>\n",
       "      <td>0.783716</td>\n",
       "    </tr>\n",
       "  </tbody>\n",
       "</table>\n",
       "<p>149 rows × 4 columns</p>\n",
       "</div>"
      ],
      "text/plain": [
       "     sepal length  sepal width  petal length  petal width\n",
       "0       -1.148356    -0.118060     -1.353964    -1.325063\n",
       "1       -1.390542     0.344859     -1.410986    -1.325063\n",
       "2       -1.511636     0.113399     -1.296943    -1.325063\n",
       "3       -1.027262     1.270695     -1.353964    -1.325063\n",
       "4       -0.542889     1.965072     -1.182901    -1.061466\n",
       "..            ...          ...           ...          ...\n",
       "144      1.031326    -0.118060      0.812838     1.442709\n",
       "145      0.546952    -1.275355      0.698796     0.915514\n",
       "146      0.789139    -0.118060      0.812838     1.047313\n",
       "147      0.425859     0.807777      0.926880     1.442709\n",
       "148      0.062578    -0.118060      0.755817     0.783716\n",
       "\n",
       "[149 rows x 4 columns]"
      ]
     },
     "execution_count": 51,
     "metadata": {},
     "output_type": "execute_result"
    }
   ],
   "source": [
    "X = iris_zscore[[\"sepal length\",\"sepal width\", \"petal length\", \"petal width\"]]\n",
    "X"
   ]
  },
  {
   "cell_type": "code",
   "execution_count": 52,
   "metadata": {},
   "outputs": [],
   "source": [
    "# fit the DBSCAN model\n",
    "dbscan_model = DBSCAN().fit(X)"
   ]
  },
  {
   "cell_type": "code",
   "execution_count": 53,
   "metadata": {},
   "outputs": [
    {
     "data": {
      "text/plain": [
       "array([ 0,  0,  0,  0,  0,  0,  0,  0,  0,  0,  0,  0,  0, -1, -1,  0,  0,\n",
       "        0,  0,  0,  0, -1,  0,  0,  0,  0,  0,  0,  0,  0,  0, -1, -1,  0,\n",
       "        0,  0,  0,  0,  0,  0, -1,  0,  0,  0,  0,  0,  0,  0,  0,  1,  1,\n",
       "        1,  1,  1,  1, -1, -1,  1, -1, -1,  1, -1,  1,  1,  1,  1,  1, -1,\n",
       "        1,  1,  1, -1,  1,  1,  1,  1,  1,  1,  1,  1,  1,  1,  1,  1, -1,\n",
       "        1, -1,  1,  1,  1,  1,  1, -1,  1,  1,  1,  1, -1,  1, -1,  1,  1,\n",
       "        1,  1, -1, -1, -1, -1, -1,  1,  1,  1,  1, -1,  1,  1, -1, -1, -1,\n",
       "        1,  1, -1,  1,  1, -1,  1,  1,  1, -1, -1, -1,  1,  1,  1, -1, -1,\n",
       "        1,  1,  1,  1,  1,  1,  1,  1,  1,  1,  1, -1,  1], dtype=int64)"
      ]
     },
     "execution_count": 53,
     "metadata": {},
     "output_type": "execute_result"
    }
   ],
   "source": [
    "# save the final cluster result\n",
    "X_db_euc_zscore = dbscan_model.labels_\n",
    "X_db_euc_zscore"
   ]
  },
  {
   "cell_type": "markdown",
   "metadata": {},
   "source": [
    "## (2)(b)(2) DBSCAN Method with Manhattan Distance"
   ]
  },
  {
   "cell_type": "markdown",
   "metadata": {},
   "source": [
    "#### Using min-max to normalize the data"
   ]
  },
  {
   "cell_type": "code",
   "execution_count": 54,
   "metadata": {},
   "outputs": [],
   "source": [
    "X = iris_minmax[[\"sepal length\",\"sepal width\", \"petal length\", \"petal width\"]]"
   ]
  },
  {
   "cell_type": "code",
   "execution_count": 55,
   "metadata": {},
   "outputs": [],
   "source": [
    "# fit the DBSCAN model\n",
    "dbscan_model = DBSCAN(metric = \"manhattan\", eps = 0.3).fit(X)  # set distance to manhattan instead of euclidian"
   ]
  },
  {
   "cell_type": "code",
   "execution_count": 56,
   "metadata": {},
   "outputs": [],
   "source": [
    "# save the final cluster result\n",
    "X_db_man_minmax = dbscan_model.labels_"
   ]
  },
  {
   "cell_type": "code",
   "execution_count": 57,
   "metadata": {},
   "outputs": [
    {
     "data": {
      "text/plain": [
       "array([ 0,  0,  0,  0,  0,  0,  0,  0,  0,  0,  0,  0,  0,  0,  0,  0,  0,\n",
       "        0,  0,  0,  0,  0,  0,  0,  0,  0,  0,  0,  0,  0,  0,  0,  0,  0,\n",
       "        0,  0,  0,  0,  0,  0, -1,  0,  0,  0,  0,  0,  0,  0,  0,  1,  1,\n",
       "        1,  1,  1,  1,  1,  1,  1,  1,  1,  1,  1,  1,  1,  1,  1,  1,  1,\n",
       "        1,  1,  1,  1,  1,  1,  1,  1,  1,  1,  1,  1,  1,  1,  1,  1,  1,\n",
       "        1,  1,  1,  1,  1,  1,  1,  1,  1,  1,  1,  1,  1,  1,  1,  1,  1,\n",
       "        1,  1,  1, -1,  1,  1, -1,  1,  1,  1,  1,  1,  1,  1, -1, -1,  1,\n",
       "        1,  1,  1,  1,  1,  1,  1,  1,  1,  1,  1, -1,  1,  1,  1,  1,  1,\n",
       "        1,  1,  1,  1,  1,  1,  1,  1,  1,  1,  1,  1,  1], dtype=int64)"
      ]
     },
     "execution_count": 57,
     "metadata": {},
     "output_type": "execute_result"
    }
   ],
   "source": [
    "X_db_man_minmax"
   ]
  },
  {
   "cell_type": "markdown",
   "metadata": {},
   "source": [
    "#### Using z-score to normalize the data"
   ]
  },
  {
   "cell_type": "code",
   "execution_count": 58,
   "metadata": {},
   "outputs": [],
   "source": [
    "X = iris_zscore[[\"sepal length\",\"sepal width\", \"petal length\", \"petal width\"]]"
   ]
  },
  {
   "cell_type": "code",
   "execution_count": 59,
   "metadata": {},
   "outputs": [],
   "source": [
    "# fit the DBSCAN model\n",
    "dbscan_model = DBSCAN(metric = \"manhattan\", eps = 1).fit(X)"
   ]
  },
  {
   "cell_type": "code",
   "execution_count": 60,
   "metadata": {},
   "outputs": [],
   "source": [
    "# save the final cluster result\n",
    "X_db_man_zscore = dbscan_model.labels_"
   ]
  },
  {
   "cell_type": "code",
   "execution_count": 61,
   "metadata": {},
   "outputs": [
    {
     "data": {
      "text/plain": [
       "array([ 0,  0,  0,  0,  0,  0,  0,  0,  0,  0,  0,  0,  0, -1, -1,  0,  0,\n",
       "        0,  0,  0,  0,  0,  0,  0,  0,  0,  0,  0,  0,  0,  0, -1, -1,  0,\n",
       "        0,  0,  0,  0,  0,  0, -1,  0,  0,  0,  0,  0,  0,  0,  0,  1,  1,\n",
       "        1,  1,  1,  1,  1,  1,  1,  1, -1,  1, -1,  1,  1,  1,  1,  1, -1,\n",
       "        1,  1,  1,  1,  1,  1,  1,  1,  1,  1,  1,  1,  1,  1,  1,  1, -1,\n",
       "        1, -1,  1,  1,  1,  1,  1, -1,  1,  1,  1,  1, -1,  1,  1,  1,  1,\n",
       "        1,  1, -1, -1, -1, -1, -1,  1,  1,  1,  1,  1,  1,  1, -1, -1, -1,\n",
       "        1,  1, -1,  1,  1, -1,  1,  1,  1,  1, -1, -1,  1,  1,  1, -1,  1,\n",
       "        1,  1,  1,  1,  1,  1,  1,  1,  1,  1,  1,  1,  1], dtype=int64)"
      ]
     },
     "execution_count": 61,
     "metadata": {},
     "output_type": "execute_result"
    }
   ],
   "source": [
    "X_db_man_zscore"
   ]
  },
  {
   "cell_type": "markdown",
   "metadata": {},
   "source": [
    "## (3) Evaluate the clustering results based on four external evaluation measures"
   ]
  },
  {
   "cell_type": "code",
   "execution_count": 62,
   "metadata": {},
   "outputs": [],
   "source": [
    "y_true_label = np.array(iris_data['class'])  # actual labels from iris data"
   ]
  },
  {
   "cell_type": "code",
   "execution_count": 63,
   "metadata": {},
   "outputs": [],
   "source": [
    "y_true = np.zeros(iris_data.shape[0]) # get a new array filled with 0's"
   ]
  },
  {
   "cell_type": "code",
   "execution_count": 64,
   "metadata": {},
   "outputs": [],
   "source": [
    "y_true[y_true_label == \"Iris-versicolor\"] = 1\n",
    "y_true[y_true_label == \"Iris-virginica\"] = 2"
   ]
  },
  {
   "cell_type": "code",
   "execution_count": 65,
   "metadata": {},
   "outputs": [
    {
     "data": {
      "text/plain": [
       "array([0., 0., 0., 0., 0., 0., 0., 0., 0., 0., 0., 0., 0., 0., 0., 0., 0.,\n",
       "       0., 0., 0., 0., 0., 0., 0., 0., 0., 0., 0., 0., 0., 0., 0., 0., 0.,\n",
       "       0., 0., 0., 0., 0., 0., 0., 0., 0., 0., 0., 0., 0., 0., 0., 1., 1.,\n",
       "       1., 1., 1., 1., 1., 1., 1., 1., 1., 1., 1., 1., 1., 1., 1., 1., 1.,\n",
       "       1., 1., 1., 1., 1., 1., 1., 1., 1., 1., 1., 1., 1., 1., 1., 1., 1.,\n",
       "       1., 1., 1., 1., 1., 1., 1., 1., 1., 1., 1., 1., 1., 1., 2., 2., 2.,\n",
       "       2., 2., 2., 2., 2., 2., 2., 2., 2., 2., 2., 2., 2., 2., 2., 2., 2.,\n",
       "       2., 2., 2., 2., 2., 2., 2., 2., 2., 2., 2., 2., 2., 2., 2., 2., 2.,\n",
       "       2., 2., 2., 2., 2., 2., 2., 2., 2., 2., 2., 2., 2.])"
      ]
     },
     "execution_count": 65,
     "metadata": {},
     "output_type": "execute_result"
    }
   ],
   "source": [
    "y_true  # 0: Iris-setosa ;1:Iris-versicolor; 2: Iris-virginica"
   ]
  },
  {
   "cell_type": "code",
   "execution_count": 66,
   "metadata": {},
   "outputs": [
    {
     "data": {
      "text/plain": [
       "(array(['Iris-setosa', 'Iris-versicolor', 'Iris-virginica'], dtype=object),\n",
       " array([49, 50, 50], dtype=int64))"
      ]
     },
     "execution_count": 66,
     "metadata": {},
     "output_type": "execute_result"
    }
   ],
   "source": [
    "np.unique(y_true_label, return_counts = True)"
   ]
  },
  {
   "cell_type": "code",
   "execution_count": 67,
   "metadata": {},
   "outputs": [
    {
     "data": {
      "text/plain": [
       "(array([0., 1., 2.]), array([49, 50, 50], dtype=int64))"
      ]
     },
     "execution_count": 67,
     "metadata": {},
     "output_type": "execute_result"
    }
   ],
   "source": [
    "np.unique(y_true, return_counts = True)"
   ]
  },
  {
   "cell_type": "markdown",
   "metadata": {},
   "source": [
    "#### Change the cluster labels to match the labels we assigned for each type of flowers"
   ]
  },
  {
   "cell_type": "code",
   "execution_count": 68,
   "metadata": {},
   "outputs": [
    {
     "data": {
      "text/plain": [
       "array([3, 3, 3, 3, 3, 3, 3, 3, 3, 3, 3, 3, 3, 3, 3, 3, 3, 3, 3, 3, 3, 3,\n",
       "       3, 3, 3, 3, 3, 3, 3, 3, 3, 3, 3, 3, 3, 3, 3, 3, 3, 3, 3, 3, 3, 3,\n",
       "       3, 3, 3, 3, 3, 2, 1, 2, 1, 1, 1, 1, 1, 1, 1, 1, 1, 1, 1, 1, 1, 1,\n",
       "       1, 1, 1, 1, 1, 1, 1, 1, 1, 1, 2, 1, 1, 1, 1, 1, 1, 1, 1, 1, 1, 1,\n",
       "       1, 1, 1, 1, 1, 1, 1, 1, 1, 1, 1, 2, 1, 2, 2, 2, 2, 1, 2, 2, 2, 2,\n",
       "       2, 2, 1, 2, 2, 2, 2, 2, 1, 2, 1, 2, 1, 2, 2, 1, 1, 2, 2, 2, 2, 2,\n",
       "       1, 1, 2, 2, 2, 1, 2, 2, 2, 1, 2, 2, 2, 1, 2, 2, 1], dtype=int64)"
      ]
     },
     "execution_count": 68,
     "metadata": {},
     "output_type": "execute_result"
    }
   ],
   "source": [
    "# Kmean - Euclidean - MinMax\n",
    "y_pred_raw_kmean_euc_minmax = np.array(X_euc_minmax['closest'])\n",
    "y_pred_kmean_euc_minmax = np.zeros(iris_data.shape[0])\n",
    "y_pred_kmean_euc_minmax[y_pred_raw_kmean_euc_minmax == 3] = 0   # 0: Iris-setosa ;1:Iris-versicolor; 2: Iris-virginica\n",
    "y_pred_kmean_euc_minmax[y_pred_raw_kmean_euc_minmax == 1] = 1\n",
    "y_pred_kmean_euc_minmax[y_pred_raw_kmean_euc_minmax == 2] = 2\n",
    "y_pred_raw_kmean_euc_minmax"
   ]
  },
  {
   "cell_type": "code",
   "execution_count": 69,
   "metadata": {},
   "outputs": [
    {
     "data": {
      "text/plain": [
       "array([3, 3, 3, 3, 3, 3, 3, 3, 3, 3, 3, 3, 3, 3, 3, 3, 3, 3, 3, 3, 3, 3,\n",
       "       3, 3, 3, 3, 3, 3, 3, 3, 3, 3, 3, 3, 3, 3, 3, 3, 3, 3, 3, 3, 3, 3,\n",
       "       3, 3, 3, 3, 3, 2, 2, 2, 1, 1, 1, 2, 1, 2, 1, 1, 1, 1, 1, 1, 2, 1,\n",
       "       1, 1, 1, 2, 1, 1, 1, 1, 2, 2, 2, 1, 1, 1, 1, 1, 1, 1, 2, 2, 1, 1,\n",
       "       1, 1, 1, 1, 1, 1, 1, 1, 1, 1, 1, 2, 1, 2, 2, 2, 2, 1, 2, 2, 2, 2,\n",
       "       2, 2, 1, 1, 2, 2, 2, 2, 1, 2, 1, 2, 1, 2, 2, 1, 2, 2, 2, 2, 2, 2,\n",
       "       1, 1, 2, 2, 2, 1, 2, 2, 2, 1, 2, 2, 2, 1, 2, 2, 1], dtype=int64)"
      ]
     },
     "execution_count": 69,
     "metadata": {},
     "output_type": "execute_result"
    }
   ],
   "source": [
    "# Kmean - Euclidean - Zscore\n",
    "y_pred_raw_kmean_euc_zscore = np.array(X_euc_zscore['closest'])\n",
    "y_pred_kmean_euc_zscore = np.zeros(iris_data.shape[0])\n",
    "y_pred_kmean_euc_zscore[y_pred_raw_kmean_euc_zscore == 3] = 0\n",
    "y_pred_kmean_euc_zscore[y_pred_raw_kmean_euc_zscore == 1] = 1\n",
    "y_pred_kmean_euc_zscore[y_pred_raw_kmean_euc_zscore == 2] = 2\n",
    "y_pred_raw_kmean_euc_zscore"
   ]
  },
  {
   "cell_type": "code",
   "execution_count": 70,
   "metadata": {},
   "outputs": [
    {
     "data": {
      "text/plain": [
       "array([3, 3, 3, 3, 3, 3, 3, 3, 3, 3, 3, 3, 3, 3, 3, 3, 3, 3, 3, 3, 3, 3,\n",
       "       3, 3, 3, 3, 3, 3, 3, 3, 3, 3, 3, 3, 3, 3, 3, 3, 3, 3, 3, 3, 3, 3,\n",
       "       3, 3, 3, 3, 3, 2, 1, 2, 1, 1, 1, 1, 1, 1, 1, 1, 1, 1, 1, 1, 1, 1,\n",
       "       1, 1, 1, 1, 1, 1, 1, 1, 1, 1, 2, 1, 1, 1, 1, 1, 1, 1, 1, 2, 1, 1,\n",
       "       1, 1, 1, 1, 1, 1, 1, 1, 1, 1, 1, 2, 1, 2, 2, 2, 2, 1, 2, 2, 2, 2,\n",
       "       2, 2, 1, 1, 2, 2, 2, 2, 1, 2, 1, 2, 1, 2, 2, 1, 1, 2, 2, 2, 2, 2,\n",
       "       1, 1, 2, 2, 2, 1, 2, 2, 2, 1, 2, 2, 2, 1, 2, 2, 1], dtype=int64)"
      ]
     },
     "execution_count": 70,
     "metadata": {},
     "output_type": "execute_result"
    }
   ],
   "source": [
    "# Kmean - Manhattan - MinMax\n",
    "y_pred_raw_kmean_man_minmax = np.array(X_man_minmax['closest'])\n",
    "y_pred_kmean_man_minmax = np.zeros(iris_data.shape[0])\n",
    "y_pred_kmean_man_minmax[y_pred_raw_kmean_man_minmax == 3] = 0\n",
    "y_pred_kmean_man_minmax[y_pred_raw_kmean_man_minmax == 1] = 1\n",
    "y_pred_kmean_man_minmax[y_pred_raw_kmean_man_minmax == 2] = 2\n",
    "y_pred_raw_kmean_man_minmax"
   ]
  },
  {
   "cell_type": "code",
   "execution_count": 71,
   "metadata": {},
   "outputs": [
    {
     "data": {
      "text/plain": [
       "array([3, 3, 3, 3, 3, 3, 3, 3, 3, 3, 3, 3, 3, 3, 3, 3, 3, 3, 3, 3, 3, 3,\n",
       "       3, 3, 3, 3, 3, 3, 3, 3, 3, 3, 3, 3, 3, 3, 3, 3, 3, 3, 3, 3, 3, 3,\n",
       "       3, 3, 3, 3, 3, 2, 1, 2, 1, 1, 1, 2, 1, 1, 1, 1, 1, 1, 1, 1, 2, 1,\n",
       "       1, 1, 1, 1, 1, 1, 1, 1, 1, 1, 2, 1, 1, 1, 1, 1, 1, 1, 1, 2, 1, 1,\n",
       "       1, 1, 1, 1, 1, 1, 1, 1, 1, 1, 1, 2, 1, 2, 2, 2, 2, 1, 2, 2, 2, 2,\n",
       "       2, 2, 1, 1, 2, 2, 2, 2, 1, 2, 1, 2, 1, 2, 2, 1, 1, 2, 2, 2, 2, 2,\n",
       "       1, 1, 2, 2, 2, 1, 2, 2, 2, 1, 2, 2, 2, 1, 2, 2, 1], dtype=int64)"
      ]
     },
     "execution_count": 71,
     "metadata": {},
     "output_type": "execute_result"
    }
   ],
   "source": [
    "# Kmean - Manhattan - Zscore\n",
    "y_pred_raw_kmean_man_zscore = np.array(X_man_zscore['closest'])\n",
    "y_pred_kmean_man_zscore = np.zeros(iris_data.shape[0])\n",
    "y_pred_kmean_man_zscore[y_pred_raw_kmean_man_zscore == 3] = 0\n",
    "y_pred_kmean_man_zscore[y_pred_raw_kmean_man_zscore == 1] = 1\n",
    "y_pred_kmean_man_zscore[y_pred_raw_kmean_man_zscore == 2] = 2\n",
    "y_pred_raw_kmean_man_zscore"
   ]
  },
  {
   "cell_type": "code",
   "execution_count": 72,
   "metadata": {},
   "outputs": [
    {
     "data": {
      "text/plain": [
       "array([ 0,  0,  0,  0,  0,  0,  0,  0,  0,  0,  0,  0,  0,  0,  0,  0,  0,\n",
       "        0,  0,  0,  0,  0,  0,  0,  0,  0,  0,  0,  0,  0,  0,  0,  0,  0,\n",
       "        0,  0,  0,  0,  0,  0, -1,  0,  0,  0,  0,  0,  0,  0,  0,  1,  1,\n",
       "        1,  1,  1,  1,  1,  1,  1,  1,  1,  1,  1,  1,  1,  1,  1,  1,  1,\n",
       "        1,  1,  1,  1,  1,  1,  1,  1,  1,  1,  1,  1,  1,  1,  1,  1,  1,\n",
       "        1,  1,  1,  1,  1,  1,  1,  1,  1,  1,  1,  1,  1,  1,  1,  1,  1,\n",
       "        1,  1,  1,  1,  1,  1,  1,  1,  1,  1,  1,  1,  1,  1,  1,  1,  1,\n",
       "        1,  1,  1,  1,  1,  1,  1,  1,  1,  1,  1, -1,  1,  1,  1,  1,  1,\n",
       "        1,  1,  1,  1,  1,  1,  1,  1,  1,  1,  1,  1,  1], dtype=int64)"
      ]
     },
     "execution_count": 72,
     "metadata": {},
     "output_type": "execute_result"
    }
   ],
   "source": [
    "# DBSCAN - Euclidean - MinMax\n",
    "y_pred_raw_dbscan_euc_minmax = X_db_euc_minmax\n",
    "y_pred_dbscan_euc_minmax = np.zeros(iris_data.shape[0])\n",
    "y_pred_dbscan_euc_minmax[y_pred_raw_dbscan_euc_minmax == 0] = 0\n",
    "y_pred_dbscan_euc_minmax[y_pred_raw_dbscan_euc_minmax == 1] = 1\n",
    "y_pred_dbscan_euc_minmax[y_pred_raw_dbscan_euc_minmax == -1] = 2\n",
    "y_pred_raw_dbscan_euc_minmax"
   ]
  },
  {
   "cell_type": "code",
   "execution_count": 73,
   "metadata": {},
   "outputs": [
    {
     "data": {
      "text/plain": [
       "array([ 0,  0,  0,  0,  0,  0,  0,  0,  0,  0,  0,  0,  0, -1, -1,  0,  0,\n",
       "        0,  0,  0,  0, -1,  0,  0,  0,  0,  0,  0,  0,  0,  0, -1, -1,  0,\n",
       "        0,  0,  0,  0,  0,  0, -1,  0,  0,  0,  0,  0,  0,  0,  0,  1,  1,\n",
       "        1,  1,  1,  1, -1, -1,  1, -1, -1,  1, -1,  1,  1,  1,  1,  1, -1,\n",
       "        1,  1,  1, -1,  1,  1,  1,  1,  1,  1,  1,  1,  1,  1,  1,  1, -1,\n",
       "        1, -1,  1,  1,  1,  1,  1, -1,  1,  1,  1,  1, -1,  1, -1,  1,  1,\n",
       "        1,  1, -1, -1, -1, -1, -1,  1,  1,  1,  1, -1,  1,  1, -1, -1, -1,\n",
       "        1,  1, -1,  1,  1, -1,  1,  1,  1, -1, -1, -1,  1,  1,  1, -1, -1,\n",
       "        1,  1,  1,  1,  1,  1,  1,  1,  1,  1,  1, -1,  1], dtype=int64)"
      ]
     },
     "execution_count": 73,
     "metadata": {},
     "output_type": "execute_result"
    }
   ],
   "source": [
    "# DBSCAN - Euclidean - Zscore\n",
    "y_pred_raw_dbscan_euc_zscore = X_db_euc_zscore\n",
    "y_pred_dbscan_euc_zscore = np.zeros(iris_data.shape[0])\n",
    "y_pred_dbscan_euc_zscore[y_pred_raw_dbscan_euc_zscore == 0] = 0\n",
    "y_pred_dbscan_euc_zscore[y_pred_raw_dbscan_euc_zscore == 1] = 1\n",
    "y_pred_dbscan_euc_zscore[y_pred_raw_dbscan_euc_zscore == -1] = 2\n",
    "y_pred_raw_dbscan_euc_zscore"
   ]
  },
  {
   "cell_type": "code",
   "execution_count": 74,
   "metadata": {},
   "outputs": [
    {
     "data": {
      "text/plain": [
       "array([ 0,  0,  0,  0,  0,  0,  0,  0,  0,  0,  0,  0,  0,  0,  0,  0,  0,\n",
       "        0,  0,  0,  0,  0,  0,  0,  0,  0,  0,  0,  0,  0,  0,  0,  0,  0,\n",
       "        0,  0,  0,  0,  0,  0, -1,  0,  0,  0,  0,  0,  0,  0,  0,  1,  1,\n",
       "        1,  1,  1,  1,  1,  1,  1,  1,  1,  1,  1,  1,  1,  1,  1,  1,  1,\n",
       "        1,  1,  1,  1,  1,  1,  1,  1,  1,  1,  1,  1,  1,  1,  1,  1,  1,\n",
       "        1,  1,  1,  1,  1,  1,  1,  1,  1,  1,  1,  1,  1,  1,  1,  1,  1,\n",
       "        1,  1,  1, -1,  1,  1, -1,  1,  1,  1,  1,  1,  1,  1, -1, -1,  1,\n",
       "        1,  1,  1,  1,  1,  1,  1,  1,  1,  1,  1, -1,  1,  1,  1,  1,  1,\n",
       "        1,  1,  1,  1,  1,  1,  1,  1,  1,  1,  1,  1,  1], dtype=int64)"
      ]
     },
     "execution_count": 74,
     "metadata": {},
     "output_type": "execute_result"
    }
   ],
   "source": [
    "# DBSCAN - Manhattan - MinMax\n",
    "y_pred_raw_dbscan_man_minmax = X_db_man_minmax\n",
    "y_pred_dbscan_man_minmax = np.zeros(iris_data.shape[0])\n",
    "y_pred_dbscan_man_minmax[y_pred_raw_dbscan_man_minmax == 0] = 0\n",
    "y_pred_dbscan_man_minmax[y_pred_raw_dbscan_man_minmax == 1] = 1\n",
    "y_pred_dbscan_man_minmax[y_pred_raw_dbscan_man_minmax == -1] = 2\n",
    "y_pred_raw_dbscan_man_minmax"
   ]
  },
  {
   "cell_type": "code",
   "execution_count": 75,
   "metadata": {},
   "outputs": [
    {
     "data": {
      "text/plain": [
       "array([ 0,  0,  0,  0,  0,  0,  0,  0,  0,  0,  0,  0,  0, -1, -1,  0,  0,\n",
       "        0,  0,  0,  0,  0,  0,  0,  0,  0,  0,  0,  0,  0,  0, -1, -1,  0,\n",
       "        0,  0,  0,  0,  0,  0, -1,  0,  0,  0,  0,  0,  0,  0,  0,  1,  1,\n",
       "        1,  1,  1,  1,  1,  1,  1,  1, -1,  1, -1,  1,  1,  1,  1,  1, -1,\n",
       "        1,  1,  1,  1,  1,  1,  1,  1,  1,  1,  1,  1,  1,  1,  1,  1, -1,\n",
       "        1, -1,  1,  1,  1,  1,  1, -1,  1,  1,  1,  1, -1,  1,  1,  1,  1,\n",
       "        1,  1, -1, -1, -1, -1, -1,  1,  1,  1,  1,  1,  1,  1, -1, -1, -1,\n",
       "        1,  1, -1,  1,  1, -1,  1,  1,  1,  1, -1, -1,  1,  1,  1, -1,  1,\n",
       "        1,  1,  1,  1,  1,  1,  1,  1,  1,  1,  1,  1,  1], dtype=int64)"
      ]
     },
     "execution_count": 75,
     "metadata": {},
     "output_type": "execute_result"
    }
   ],
   "source": [
    "# DBSCAN - Manhattan - Zscore\n",
    "y_pred_raw_dbscan_man_zscore = X_db_man_zscore\n",
    "y_pred_dbscan_man_zscore = np.zeros(iris_data.shape[0])\n",
    "y_pred_dbscan_man_zscore[y_pred_raw_dbscan_man_zscore == 0] = 0\n",
    "y_pred_dbscan_man_zscore[y_pred_raw_dbscan_man_zscore == 1] = 1\n",
    "y_pred_dbscan_man_zscore[y_pred_raw_dbscan_man_zscore == -1] = 2\n",
    "y_pred_raw_dbscan_man_zscore"
   ]
  },
  {
   "cell_type": "markdown",
   "metadata": {},
   "source": [
    "## (3)(a) Purity"
   ]
  },
  {
   "cell_type": "code",
   "execution_count": 76,
   "metadata": {},
   "outputs": [],
   "source": [
    "from sklearn import metrics"
   ]
  },
  {
   "cell_type": "code",
   "execution_count": 77,
   "metadata": {},
   "outputs": [],
   "source": [
    "confusion = metrics.cluster.contingency_matrix(y_true, y_pred_kmean_euc_minmax)   # use contigency matrix from sklearn\n",
    "purity_kmean_euc_minmax = np.sum(np.amax(confusion, axis = 0))/149 # sum the number of correctly assigned documents and dividing by total observations"
   ]
  },
  {
   "cell_type": "code",
   "execution_count": 78,
   "metadata": {},
   "outputs": [
    {
     "data": {
      "text/plain": [
       "0.8859060402684564"
      ]
     },
     "execution_count": 78,
     "metadata": {},
     "output_type": "execute_result"
    }
   ],
   "source": [
    "purity_kmean_euc_minmax"
   ]
  },
  {
   "cell_type": "code",
   "execution_count": 79,
   "metadata": {
    "scrolled": true
   },
   "outputs": [
    {
     "data": {
      "text/plain": [
       "0.825503355704698"
      ]
     },
     "execution_count": 79,
     "metadata": {},
     "output_type": "execute_result"
    }
   ],
   "source": [
    "confusion = metrics.cluster.contingency_matrix(y_true, y_pred_kmean_euc_zscore)  # repeat for other methods\n",
    "purity_kmean_euc_zscore = np.sum(np.amax(confusion, axis = 0))/149\n",
    "purity_kmean_euc_zscore"
   ]
  },
  {
   "cell_type": "code",
   "execution_count": 80,
   "metadata": {},
   "outputs": [
    {
     "data": {
      "text/plain": [
       "0.87248322147651"
      ]
     },
     "execution_count": 80,
     "metadata": {},
     "output_type": "execute_result"
    }
   ],
   "source": [
    "confusion = metrics.cluster.contingency_matrix(y_true, y_pred_kmean_man_minmax)\n",
    "purity_kmean_man_minmax = np.sum(np.amax(confusion, axis = 0))/149\n",
    "purity_kmean_man_minmax"
   ]
  },
  {
   "cell_type": "code",
   "execution_count": 81,
   "metadata": {},
   "outputs": [
    {
     "data": {
      "text/plain": [
       "0.8590604026845637"
      ]
     },
     "execution_count": 81,
     "metadata": {},
     "output_type": "execute_result"
    }
   ],
   "source": [
    "confusion = metrics.cluster.contingency_matrix(y_true, y_pred_kmean_man_zscore)\n",
    "purity_kmean_man_zscore = np.sum(np.amax(confusion, axis = 0))/149\n",
    "purity_kmean_man_zscore"
   ]
  },
  {
   "cell_type": "code",
   "execution_count": 82,
   "metadata": {},
   "outputs": [
    {
     "data": {
      "text/plain": [
       "0.6644295302013423"
      ]
     },
     "execution_count": 82,
     "metadata": {},
     "output_type": "execute_result"
    }
   ],
   "source": [
    "confusion = metrics.cluster.contingency_matrix(y_true, y_pred_dbscan_euc_minmax)\n",
    "purity_dbscan_euc_minmax = np.sum(np.amax(confusion, axis = 0))/149\n",
    "purity_dbscan_euc_minmax"
   ]
  },
  {
   "cell_type": "code",
   "execution_count": 83,
   "metadata": {},
   "outputs": [
    {
     "data": {
      "text/plain": [
       "0.6711409395973155"
      ]
     },
     "execution_count": 83,
     "metadata": {},
     "output_type": "execute_result"
    }
   ],
   "source": [
    "confusion = metrics.cluster.contingency_matrix(y_true, y_pred_dbscan_euc_zscore)\n",
    "purity_dbscan_euc_zscore = np.sum(np.amax(confusion, axis = 0))/149\n",
    "purity_dbscan_euc_zscore"
   ]
  },
  {
   "cell_type": "code",
   "execution_count": 84,
   "metadata": {},
   "outputs": [
    {
     "data": {
      "text/plain": [
       "0.6912751677852349"
      ]
     },
     "execution_count": 84,
     "metadata": {},
     "output_type": "execute_result"
    }
   ],
   "source": [
    "confusion = metrics.cluster.contingency_matrix(y_true, y_pred_dbscan_man_minmax)\n",
    "purity_dbscan_man_minmax = np.sum(np.amax(confusion, axis = 0))/149\n",
    "purity_dbscan_man_minmax"
   ]
  },
  {
   "cell_type": "code",
   "execution_count": 85,
   "metadata": {},
   "outputs": [
    {
     "data": {
      "text/plain": [
       "0.6711409395973155"
      ]
     },
     "execution_count": 85,
     "metadata": {},
     "output_type": "execute_result"
    }
   ],
   "source": [
    "confusion = metrics.cluster.contingency_matrix(y_true, y_pred_dbscan_man_zscore)\n",
    "purity_dbscan_man_zscore = np.sum(np.amax(confusion, axis = 0))/149\n",
    "purity_dbscan_man_zscore"
   ]
  },
  {
   "cell_type": "markdown",
   "metadata": {},
   "source": [
    "| | | Predict Label | | |\n",
    "| --- | --- | --- | --- | ---| \n",
    "| | | setosa | versicolor | virginica |\n",
    "| True Label | setosa | 44 | 0 | 5 |\n",
    "| | versicolor | 0 | 43 | 7 |\n",
    "| | virginica | 0 | 37 | 13 |\n"
   ]
  },
  {
   "cell_type": "markdown",
   "metadata": {},
   "source": [
    "## (3)(b) The normalized mutual information (NMI)"
   ]
  },
  {
   "cell_type": "code",
   "execution_count": 86,
   "metadata": {},
   "outputs": [],
   "source": [
    "from sklearn.metrics import normalized_mutual_info_score as NMI   "
   ]
  },
  {
   "cell_type": "code",
   "execution_count": 87,
   "metadata": {},
   "outputs": [],
   "source": [
    "nmi_kmean_euc_minmax = NMI(y_true, y_pred_kmean_euc_minmax)       # import NMI within sklearn to calculate NMI for each method\n",
    "nmi_kmean_euc_zscore = NMI(y_true, y_pred_kmean_euc_zscore)\n",
    "nmi_kmean_man_minmax = NMI(y_true, y_pred_kmean_man_minmax)\n",
    "nmi_kmean_man_zscore = NMI(y_true, y_pred_kmean_man_zscore)\n",
    "nmi_dbscan_euc_minmax = NMI(y_true, y_pred_dbscan_euc_minmax)\n",
    "nmi_dbscan_euc_zscore = NMI(y_true, y_pred_dbscan_euc_zscore)\n",
    "nmi_dbscan_man_minmax = NMI(y_true, y_pred_dbscan_man_minmax)\n",
    "nmi_dbscan_man_zscore = NMI(y_true, y_pred_dbscan_man_zscore)"
   ]
  },
  {
   "cell_type": "code",
   "execution_count": 88,
   "metadata": {},
   "outputs": [
    {
     "data": {
      "text/plain": [
       "0.7401557628464956"
      ]
     },
     "execution_count": 88,
     "metadata": {},
     "output_type": "execute_result"
    }
   ],
   "source": [
    "nmi_kmean_euc_minmax"
   ]
  },
  {
   "cell_type": "code",
   "execution_count": 89,
   "metadata": {},
   "outputs": [
    {
     "data": {
      "text/plain": [
       "0.6502114305398888"
      ]
     },
     "execution_count": 89,
     "metadata": {},
     "output_type": "execute_result"
    }
   ],
   "source": [
    "nmi_kmean_euc_zscore"
   ]
  },
  {
   "cell_type": "code",
   "execution_count": 90,
   "metadata": {},
   "outputs": [
    {
     "data": {
      "text/plain": [
       "0.7187012437523883"
      ]
     },
     "execution_count": 90,
     "metadata": {},
     "output_type": "execute_result"
    }
   ],
   "source": [
    "nmi_kmean_man_minmax"
   ]
  },
  {
   "cell_type": "code",
   "execution_count": 91,
   "metadata": {},
   "outputs": [
    {
     "data": {
      "text/plain": [
       "0.6948286129099911"
      ]
     },
     "execution_count": 91,
     "metadata": {},
     "output_type": "execute_result"
    }
   ],
   "source": [
    "nmi_kmean_man_zscore"
   ]
  },
  {
   "cell_type": "code",
   "execution_count": 92,
   "metadata": {},
   "outputs": [
    {
     "data": {
      "text/plain": [
       "0.7013467618229675"
      ]
     },
     "execution_count": 92,
     "metadata": {},
     "output_type": "execute_result"
    }
   ],
   "source": [
    "nmi_dbscan_euc_minmax"
   ]
  },
  {
   "cell_type": "code",
   "execution_count": 93,
   "metadata": {},
   "outputs": [
    {
     "data": {
      "text/plain": [
       "0.4963910062784228"
      ]
     },
     "execution_count": 93,
     "metadata": {},
     "output_type": "execute_result"
    }
   ],
   "source": [
    "nmi_dbscan_euc_zscore"
   ]
  },
  {
   "cell_type": "code",
   "execution_count": 94,
   "metadata": {},
   "outputs": [
    {
     "data": {
      "text/plain": [
       "0.6802561826201569"
      ]
     },
     "execution_count": 94,
     "metadata": {},
     "output_type": "execute_result"
    }
   ],
   "source": [
    "nmi_dbscan_man_minmax"
   ]
  },
  {
   "cell_type": "code",
   "execution_count": 95,
   "metadata": {},
   "outputs": [
    {
     "data": {
      "text/plain": [
       "0.5325077144005281"
      ]
     },
     "execution_count": 95,
     "metadata": {},
     "output_type": "execute_result"
    }
   ],
   "source": [
    "nmi_dbscan_man_zscore"
   ]
  },
  {
   "cell_type": "code",
   "execution_count": null,
   "metadata": {},
   "outputs": [],
   "source": []
  },
  {
   "cell_type": "code",
   "execution_count": null,
   "metadata": {},
   "outputs": [],
   "source": []
  },
  {
   "cell_type": "markdown",
   "metadata": {},
   "source": [
    "## (3)(c) The Rand Index"
   ]
  },
  {
   "cell_type": "code",
   "execution_count": 96,
   "metadata": {},
   "outputs": [],
   "source": [
    "from math import comb\n",
    "\n",
    "def get_ri(y_true, y_pred):\n",
    "    g1 = y_pred[:49]                         # get three groups \n",
    "    g2 = y_pred[49:99]\n",
    "    g3 = y_pred[99:150]\n",
    "    P = comb(49,2)+comb(50,2)+comb(50,2)    #  pick 2(one pair) from each group for combination and and sum them up\n",
    "    TP = 0\n",
    "    for i in range(3):\n",
    "        if sum(g1 == i) >= 2:\n",
    "            TP += comb(sum(g1 == i), 2)\n",
    "        if sum(g2 == 0) >= 2:\n",
    "            TP += comb(sum(g2 == 0), 2)    \n",
    "        if sum(g3 == 0) >= 2:\n",
    "            TP += comb(sum(g3 == 0), 2)    \n",
    "    FP = P - TP\n",
    "    N = 49*(50+50)+50*50\n",
    "    TN = 0\n",
    "    for i in range(3):\n",
    "        TN += sum(g1 == i)*(sum(g2 != i)+sum(g3 != i))\n",
    "        TN += sum(g2 == i)*sum(g3 != i)\n",
    "    FN = N-TN\n",
    "    RI = (TP+TN)/(TP+FP+FN+TN)\n",
    "    return(RI)"
   ]
  },
  {
   "cell_type": "code",
   "execution_count": 97,
   "metadata": {},
   "outputs": [],
   "source": [
    "ri_kmean_euc_minmax = get_ri(y_true, y_pred_kmean_euc_minmax)\n",
    "ri_kmean_euc_zscore = get_ri(y_true, y_pred_kmean_euc_zscore)\n",
    "ri_kmean_man_minmax = get_ri(y_true, y_pred_kmean_man_minmax)\n",
    "ri_kmean_man_zscore = get_ri(y_true, y_pred_kmean_man_zscore)\n",
    "ri_dbscan_euc_minmax = get_ri(y_true, y_pred_dbscan_euc_minmax)\n",
    "ri_dbscan_euc_zscore = get_ri(y_true, y_pred_dbscan_euc_zscore)\n",
    "ri_dbscan_man_minmax = get_ri(y_true, y_pred_dbscan_man_minmax)\n",
    "ri_dbscan_man_zscore = get_ri(y_true, y_pred_dbscan_man_zscore)"
   ]
  },
  {
   "cell_type": "code",
   "execution_count": 98,
   "metadata": {},
   "outputs": [
    {
     "data": {
      "text/plain": [
       "0.7083257754398694"
      ]
     },
     "execution_count": 98,
     "metadata": {},
     "output_type": "execute_result"
    }
   ],
   "source": [
    "ri_kmean_euc_minmax "
   ]
  },
  {
   "cell_type": "code",
   "execution_count": 99,
   "metadata": {},
   "outputs": [
    {
     "data": {
      "text/plain": [
       "0.6903682205695628"
      ]
     },
     "execution_count": 99,
     "metadata": {},
     "output_type": "execute_result"
    }
   ],
   "source": [
    "ri_kmean_euc_zscore"
   ]
  },
  {
   "cell_type": "code",
   "execution_count": 100,
   "metadata": {},
   "outputs": [
    {
     "data": {
      "text/plain": [
       "0.7025213132595683"
      ]
     },
     "execution_count": 100,
     "metadata": {},
     "output_type": "execute_result"
    }
   ],
   "source": [
    "ri_kmean_man_minmax"
   ]
  },
  {
   "cell_type": "code",
   "execution_count": 101,
   "metadata": {},
   "outputs": [
    {
     "data": {
      "text/plain": [
       "0.6988935243968801"
      ]
     },
     "execution_count": 101,
     "metadata": {},
     "output_type": "execute_result"
    }
   ],
   "source": [
    "ri_kmean_man_zscore"
   ]
  },
  {
   "cell_type": "code",
   "execution_count": 102,
   "metadata": {},
   "outputs": [
    {
     "data": {
      "text/plain": [
       "0.5511518229639035"
      ]
     },
     "execution_count": 102,
     "metadata": {},
     "output_type": "execute_result"
    }
   ],
   "source": [
    "ri_dbscan_euc_minmax"
   ]
  },
  {
   "cell_type": "code",
   "execution_count": 103,
   "metadata": {},
   "outputs": [
    {
     "data": {
      "text/plain": [
       "0.6074732450571376"
      ]
     },
     "execution_count": 103,
     "metadata": {},
     "output_type": "execute_result"
    }
   ],
   "source": [
    "ri_dbscan_euc_zscore"
   ]
  },
  {
   "cell_type": "code",
   "execution_count": 104,
   "metadata": {},
   "outputs": [
    {
     "data": {
      "text/plain": [
       "0.5689279883910756"
      ]
     },
     "execution_count": 104,
     "metadata": {},
     "output_type": "execute_result"
    }
   ],
   "source": [
    "ri_dbscan_man_minmax"
   ]
  },
  {
   "cell_type": "code",
   "execution_count": 105,
   "metadata": {},
   "outputs": [
    {
     "data": {
      "text/plain": [
       "0.5962270995828043"
      ]
     },
     "execution_count": 105,
     "metadata": {},
     "output_type": "execute_result"
    }
   ],
   "source": [
    "ri_dbscan_man_zscore "
   ]
  },
  {
   "cell_type": "markdown",
   "metadata": {},
   "source": [
    "## (3)(d) The F1 measure"
   ]
  },
  {
   "cell_type": "code",
   "execution_count": 106,
   "metadata": {},
   "outputs": [],
   "source": [
    "def get_f1(y_true, y_pred, beta = 1):\n",
    "    g1 = y_pred[:49]\n",
    "    g2 = y_pred[49:99]\n",
    "    g3 = y_pred[99:150]\n",
    "    P = comb(49,2)+comb(50,2)+comb(50,2)\n",
    "    TP = 0\n",
    "    for i in range(3):\n",
    "        if sum(g1 == i) >= 2:\n",
    "            TP += comb(sum(g1 == i), 2)\n",
    "        if sum(g2 == 0) >= 2:\n",
    "            TP += comb(sum(g2 == 0), 2)    \n",
    "        if sum(g3 == 0) >= 2:\n",
    "            TP += comb(sum(g3 == 0), 2)    \n",
    "    FP = P - TP\n",
    "    N = 49*(50+50)+50*50\n",
    "    TN = 0\n",
    "    for i in range(3):\n",
    "        TN += sum(g1 == i)*(sum(g2 != i)+sum(g3 != i))\n",
    "        TN += sum(g2 == i)*sum(g3 != i)\n",
    "    FN = N-TN\n",
    "    P = TP/(TP+FP)\n",
    "    R = TP/(TP+FN)\n",
    "    F = ((beta**2+1)*P*R)/((beta**2)*P+R)\n",
    "    return(F)"
   ]
  },
  {
   "cell_type": "code",
   "execution_count": 107,
   "metadata": {},
   "outputs": [],
   "source": [
    "f1_kmean_euc_minmax = get_f1(y_true, y_pred_kmean_euc_minmax)\n",
    "f1_kmean_euc_zscore = get_f1(y_true, y_pred_kmean_euc_zscore)\n",
    "f1_kmean_man_minmax = get_f1(y_true, y_pred_kmean_man_minmax)\n",
    "f1_kmean_man_zscore = get_f1(y_true, y_pred_kmean_man_zscore)\n",
    "f1_dbscan_euc_minmax = get_f1(y_true, y_pred_dbscan_euc_minmax)\n",
    "f1_dbscan_euc_zscore = get_f1(y_true, y_pred_dbscan_euc_zscore)\n",
    "f1_dbscan_man_minmax = get_f1(y_true, y_pred_dbscan_man_minmax)\n",
    "f1_dbscan_man_zscore = get_f1(y_true, y_pred_dbscan_man_zscore)"
   ]
  },
  {
   "cell_type": "code",
   "execution_count": 108,
   "metadata": {},
   "outputs": [
    {
     "data": {
      "text/plain": [
       "0.4224137931034483"
      ]
     },
     "execution_count": 108,
     "metadata": {},
     "output_type": "execute_result"
    }
   ],
   "source": [
    "f1_kmean_euc_minmax"
   ]
  },
  {
   "cell_type": "code",
   "execution_count": 109,
   "metadata": {},
   "outputs": [
    {
     "data": {
      "text/plain": [
       "0.40790842872008326"
      ]
     },
     "execution_count": 109,
     "metadata": {},
     "output_type": "execute_result"
    }
   ],
   "source": [
    "f1_kmean_euc_zscore"
   ]
  },
  {
   "cell_type": "code",
   "execution_count": 110,
   "metadata": {},
   "outputs": [
    {
     "data": {
      "text/plain": [
       "0.41761363636363635"
      ]
     },
     "execution_count": 110,
     "metadata": {},
     "output_type": "execute_result"
    }
   ],
   "source": [
    "f1_kmean_man_minmax"
   ]
  },
  {
   "cell_type": "code",
   "execution_count": 111,
   "metadata": {},
   "outputs": [
    {
     "data": {
      "text/plain": [
       "0.4146685472496474"
      ]
     },
     "execution_count": 111,
     "metadata": {},
     "output_type": "execute_result"
    }
   ],
   "source": [
    "f1_kmean_man_zscore"
   ]
  },
  {
   "cell_type": "code",
   "execution_count": 112,
   "metadata": {},
   "outputs": [
    {
     "data": {
      "text/plain": [
       "0.313115891741846"
      ]
     },
     "execution_count": 112,
     "metadata": {},
     "output_type": "execute_result"
    }
   ],
   "source": [
    "f1_dbscan_euc_minmax"
   ]
  },
  {
   "cell_type": "code",
   "execution_count": 113,
   "metadata": {},
   "outputs": [
    {
     "data": {
      "text/plain": [
       "0.29785853341985724"
      ]
     },
     "execution_count": 113,
     "metadata": {},
     "output_type": "execute_result"
    }
   ],
   "source": [
    "f1_dbscan_euc_zscore"
   ]
  },
  {
   "cell_type": "code",
   "execution_count": 114,
   "metadata": {},
   "outputs": [
    {
     "data": {
      "text/plain": [
       "0.321871879012698"
      ]
     },
     "execution_count": 114,
     "metadata": {},
     "output_type": "execute_result"
    }
   ],
   "source": [
    "f1_dbscan_man_minmax"
   ]
  },
  {
   "cell_type": "code",
   "execution_count": 115,
   "metadata": {},
   "outputs": [
    {
     "data": {
      "text/plain": [
       "0.3004399748585795"
      ]
     },
     "execution_count": 115,
     "metadata": {},
     "output_type": "execute_result"
    }
   ],
   "source": [
    "f1_dbscan_man_zscore"
   ]
  },
  {
   "cell_type": "code",
   "execution_count": null,
   "metadata": {},
   "outputs": [],
   "source": []
  },
  {
   "cell_type": "code",
   "execution_count": 116,
   "metadata": {},
   "outputs": [],
   "source": [
    "#N"
   ]
  },
  {
   "cell_type": "code",
   "execution_count": 117,
   "metadata": {},
   "outputs": [],
   "source": [
    "N = 6*(6+5)+6*5"
   ]
  },
  {
   "cell_type": "code",
   "execution_count": 118,
   "metadata": {},
   "outputs": [
    {
     "data": {
      "text/plain": [
       "72"
      ]
     },
     "execution_count": 118,
     "metadata": {},
     "output_type": "execute_result"
    }
   ],
   "source": [
    "5*(5+3)+1*(2+5)+1*3+4*5+1*2"
   ]
  },
  {
   "cell_type": "code",
   "execution_count": 119,
   "metadata": {},
   "outputs": [
    {
     "data": {
      "text/plain": [
       "96"
      ]
     },
     "execution_count": 119,
     "metadata": {},
     "output_type": "execute_result"
    }
   ],
   "source": [
    "24+72"
   ]
  },
  {
   "cell_type": "code",
   "execution_count": 120,
   "metadata": {
    "scrolled": true
   },
   "outputs": [
    {
     "data": {
      "text/plain": [
       "96"
      ]
     },
     "execution_count": 120,
     "metadata": {},
     "output_type": "execute_result"
    }
   ],
   "source": [
    "6*(6+5)+6*5"
   ]
  },
  {
   "cell_type": "markdown",
   "metadata": {},
   "source": [
    "## 4(i) Internal measure: the diameter of a cluster"
   ]
  },
  {
   "cell_type": "code",
   "execution_count": 121,
   "metadata": {},
   "outputs": [],
   "source": [
    "X_minmax = iris_minmax.drop(['class'], axis = 1)\n",
    "X_zscore = iris_zscore.drop(['class'], axis = 1)"
   ]
  },
  {
   "cell_type": "code",
   "execution_count": 122,
   "metadata": {},
   "outputs": [],
   "source": [
    "def get_D_euc(y_pred, XX):\n",
    "    for k in range(3):\n",
    "        X_small = XX[y_pred == k]\n",
    "        temp_sum = 0\n",
    "        N = X_small.shape[0]\n",
    "        for i in range(N):\n",
    "            for j in range(N):\n",
    "                temp_sum += sum((X_small.iloc[i]-X_small.iloc[j])**2)  # euclidean\n",
    "        if k == 0:\n",
    "            D0 = np.sqrt(temp_sum/(N*(N-1)))\n",
    "        if k == 1:\n",
    "            D1 = np.sqrt(temp_sum/(N*(N-1)))\n",
    "        if k == 2:\n",
    "            D2 = np.sqrt(temp_sum/(N*(N-1)))   \n",
    "    D = D0+D1+D2\n",
    "    return D"
   ]
  },
  {
   "cell_type": "code",
   "execution_count": 123,
   "metadata": {},
   "outputs": [],
   "source": [
    "def get_D_man(y_pred, XX):\n",
    "    for k in range(3):\n",
    "        X_small = XX[y_pred == k]\n",
    "        temp_sum = 0\n",
    "        N = X_small.shape[0]\n",
    "        for i in range(N):\n",
    "            for j in range(N):\n",
    "                temp_sum += sum(np.abs(X_small.iloc[i]-X_small.iloc[j]))  #manhattan\n",
    "        if k == 0:\n",
    "            D0 = (temp_sum/(N*(N-1)))\n",
    "        if k == 1:\n",
    "            D1 = (temp_sum/(N*(N-1)))\n",
    "        if k == 2:\n",
    "            D2 = (temp_sum/(N*(N-1)))   \n",
    "    D = D0+D1+D2\n",
    "    return D"
   ]
  },
  {
   "cell_type": "code",
   "execution_count": 124,
   "metadata": {},
   "outputs": [],
   "source": [
    "D_kmean_euc_minmax = get_D_euc(y_pred_kmean_euc_minmax, X_minmax)\n",
    "D_dbscan_euc_minmax = get_D_euc(y_pred_dbscan_euc_minmax, X_minmax)"
   ]
  },
  {
   "cell_type": "code",
   "execution_count": 125,
   "metadata": {},
   "outputs": [
    {
     "data": {
      "text/plain": [
       "0.9278279949390631"
      ]
     },
     "execution_count": 125,
     "metadata": {},
     "output_type": "execute_result"
    }
   ],
   "source": [
    "D_kmean_euc_minmax"
   ]
  },
  {
   "cell_type": "code",
   "execution_count": 126,
   "metadata": {},
   "outputs": [
    {
     "data": {
      "text/plain": [
       "2.300519734304018"
      ]
     },
     "execution_count": 126,
     "metadata": {},
     "output_type": "execute_result"
    }
   ],
   "source": [
    "D_dbscan_euc_minmax"
   ]
  },
  {
   "cell_type": "code",
   "execution_count": 127,
   "metadata": {},
   "outputs": [],
   "source": [
    "D_kmean_euc_zscore = get_D_euc(y_pred_kmean_euc_zscore, X_zscore)\n",
    "D_dbscan_euc_zscore = get_D_euc(y_pred_dbscan_euc_zscore, X_zscore)"
   ]
  },
  {
   "cell_type": "code",
   "execution_count": 128,
   "metadata": {},
   "outputs": [
    {
     "data": {
      "text/plain": [
       "4.172551115346315"
      ]
     },
     "execution_count": 128,
     "metadata": {},
     "output_type": "execute_result"
    }
   ],
   "source": [
    "D_kmean_euc_zscore"
   ]
  },
  {
   "cell_type": "code",
   "execution_count": 129,
   "metadata": {},
   "outputs": [
    {
     "data": {
      "text/plain": [
       "5.925237665498879"
      ]
     },
     "execution_count": 129,
     "metadata": {},
     "output_type": "execute_result"
    }
   ],
   "source": [
    "D_dbscan_euc_zscore"
   ]
  },
  {
   "cell_type": "code",
   "execution_count": 130,
   "metadata": {},
   "outputs": [],
   "source": [
    "D_kmean_man_minmax = get_D_man(y_pred_kmean_man_minmax, X_minmax)\n",
    "D_dbscan_man_minmax = get_D_man(y_pred_dbscan_man_minmax, X_minmax)"
   ]
  },
  {
   "cell_type": "code",
   "execution_count": 131,
   "metadata": {},
   "outputs": [
    {
     "data": {
      "text/plain": [
       "1.3984112643802853"
      ]
     },
     "execution_count": 131,
     "metadata": {},
     "output_type": "execute_result"
    }
   ],
   "source": [
    "D_kmean_man_minmax"
   ]
  },
  {
   "cell_type": "code",
   "execution_count": 132,
   "metadata": {},
   "outputs": [
    {
     "data": {
      "text/plain": [
       "2.6115027979704024"
      ]
     },
     "execution_count": 132,
     "metadata": {},
     "output_type": "execute_result"
    }
   ],
   "source": [
    "D_dbscan_man_minmax"
   ]
  },
  {
   "cell_type": "code",
   "execution_count": 133,
   "metadata": {},
   "outputs": [],
   "source": [
    "D_kmean_man_zscore = get_D_man(y_pred_kmean_man_zscore, X_zscore)\n",
    "D_dbscan_man_zscore = get_D_man(y_pred_dbscan_man_zscore, X_zscore)"
   ]
  },
  {
   "cell_type": "code",
   "execution_count": 134,
   "metadata": {},
   "outputs": [
    {
     "data": {
      "text/plain": [
       "6.007744109163313"
      ]
     },
     "execution_count": 134,
     "metadata": {},
     "output_type": "execute_result"
    }
   ],
   "source": [
    "D_kmean_man_zscore"
   ]
  },
  {
   "cell_type": "code",
   "execution_count": 135,
   "metadata": {},
   "outputs": [
    {
     "data": {
      "text/plain": [
       "9.704408766056119"
      ]
     },
     "execution_count": 135,
     "metadata": {},
     "output_type": "execute_result"
    }
   ],
   "source": [
    "D_dbscan_man_zscore"
   ]
  },
  {
   "cell_type": "markdown",
   "metadata": {},
   "source": [
    "## 4(ii) Interval evaluation measure: Average link between clusters"
   ]
  },
  {
   "cell_type": "code",
   "execution_count": 136,
   "metadata": {},
   "outputs": [],
   "source": [
    "def get_AL_euc(y_pred, XX):\n",
    "    X0 = XX[y_pred == 0]\n",
    "    X1 = XX[y_pred == 1]\n",
    "    X2 = XX[y_pred == 2]\n",
    "    dist_sum = 0\n",
    "    count = 0\n",
    "    for i in range(X0.shape[0]):\n",
    "        for j in range(X1.shape[0]):\n",
    "            dist_sum += np.sum((X0.iloc[i]-X1.iloc[j])**2)\n",
    "            count += 1\n",
    "    for i in range(X0.shape[0]):\n",
    "        for j in range(X2.shape[0]):\n",
    "            dist_sum += sum((X0.iloc[i]-X2.iloc[j])**2)\n",
    "            count += 1\n",
    "    for i in range(X1.shape[0]):\n",
    "        for j in range(X2.shape[0]):\n",
    "            dist_sum += sum((X1.iloc[i]-X2.iloc[j])**2)\n",
    "            count += 1\n",
    "    Avg_link = np.sqrt(dist_sum/count)            #euclidean\n",
    "    return(Avg_link)"
   ]
  },
  {
   "cell_type": "code",
   "execution_count": 137,
   "metadata": {},
   "outputs": [],
   "source": [
    "def get_AL_man(y_pred, XX):\n",
    "    X0 = XX[y_pred == 0]\n",
    "    X1 = XX[y_pred == 1]\n",
    "    X2 = XX[y_pred == 2]\n",
    "    dist_sum = 0\n",
    "    count = 0\n",
    "    for i in range(X0.shape[0]):\n",
    "        for j in range(X1.shape[0]):\n",
    "            dist_sum += sum(np.abs(X0.iloc[i]-X1.iloc[j]))\n",
    "            count += 1\n",
    "    for i in range(X0.shape[0]):\n",
    "        for j in range(X2.shape[0]):\n",
    "            dist_sum += sum(np.abs(X0.iloc[i]-X2.iloc[j]))\n",
    "            count += 1\n",
    "    for i in range(X1.shape[0]):\n",
    "        for j in range(X2.shape[0]):\n",
    "            dist_sum += sum(np.abs(X1.iloc[i]-X2.iloc[j]))\n",
    "            count += 1\n",
    "    Avg_link = dist_sum/count            #manhattan\n",
    "    return(Avg_link)"
   ]
  },
  {
   "cell_type": "code",
   "execution_count": 138,
   "metadata": {},
   "outputs": [],
   "source": [
    "AL_kmean_euc_minmax = get_AL_euc(y_pred_kmean_euc_minmax, X_minmax)\n",
    "AL_dbscan_euc_minmax = get_AL_euc(y_pred_dbscan_euc_minmax, X_minmax)"
   ]
  },
  {
   "cell_type": "code",
   "execution_count": 139,
   "metadata": {},
   "outputs": [
    {
     "data": {
      "text/plain": [
       "0.8856172441644654"
      ]
     },
     "execution_count": 139,
     "metadata": {},
     "output_type": "execute_result"
    }
   ],
   "source": [
    "AL_kmean_euc_minmax"
   ]
  },
  {
   "cell_type": "code",
   "execution_count": 140,
   "metadata": {},
   "outputs": [
    {
     "data": {
      "text/plain": [
       "0.9967277654537661"
      ]
     },
     "execution_count": 140,
     "metadata": {},
     "output_type": "execute_result"
    }
   ],
   "source": [
    "AL_dbscan_euc_minmax"
   ]
  },
  {
   "cell_type": "code",
   "execution_count": 141,
   "metadata": {},
   "outputs": [],
   "source": [
    "AL_kmean_euc_zscore = get_AL_euc(y_pred_kmean_euc_zscore, X_zscore)\n",
    "AL_dbscan_euc_zscore = get_AL_euc(y_pred_dbscan_euc_zscore, X_zscore)"
   ]
  },
  {
   "cell_type": "code",
   "execution_count": 142,
   "metadata": {},
   "outputs": [
    {
     "data": {
      "text/plain": [
       "3.3258875976307207"
      ]
     },
     "execution_count": 142,
     "metadata": {},
     "output_type": "execute_result"
    }
   ],
   "source": [
    "AL_kmean_euc_zscore"
   ]
  },
  {
   "cell_type": "code",
   "execution_count": 143,
   "metadata": {},
   "outputs": [
    {
     "data": {
      "text/plain": [
       "3.2810654853669923"
      ]
     },
     "execution_count": 143,
     "metadata": {},
     "output_type": "execute_result"
    }
   ],
   "source": [
    "AL_dbscan_euc_zscore"
   ]
  },
  {
   "cell_type": "code",
   "execution_count": 144,
   "metadata": {},
   "outputs": [],
   "source": [
    "AL_kmean_man_minmax = get_AL_man(y_pred_kmean_man_minmax, X_minmax)\n",
    "AL_dbscan_man_minmax = get_AL_man(y_pred_dbscan_man_minmax, X_minmax)"
   ]
  },
  {
   "cell_type": "code",
   "execution_count": 145,
   "metadata": {},
   "outputs": [
    {
     "data": {
      "text/plain": [
       "1.5153771562234721"
      ]
     },
     "execution_count": 145,
     "metadata": {},
     "output_type": "execute_result"
    }
   ],
   "source": [
    "AL_kmean_man_minmax"
   ]
  },
  {
   "cell_type": "code",
   "execution_count": 146,
   "metadata": {},
   "outputs": [
    {
     "data": {
      "text/plain": [
       "1.7237497905774093"
      ]
     },
     "execution_count": 146,
     "metadata": {},
     "output_type": "execute_result"
    }
   ],
   "source": [
    "AL_dbscan_man_minmax"
   ]
  },
  {
   "cell_type": "code",
   "execution_count": 147,
   "metadata": {
    "scrolled": true
   },
   "outputs": [],
   "source": [
    "AL_kmean_man_zscore = get_AL_man(y_pred_kmean_man_zscore, X_zscore)\n",
    "AL_dbscan_man_zscore = get_AL_man(y_pred_dbscan_man_zscore, X_zscore)"
   ]
  },
  {
   "cell_type": "code",
   "execution_count": 148,
   "metadata": {},
   "outputs": [
    {
     "data": {
      "text/plain": [
       "5.8129209155274255"
      ]
     },
     "execution_count": 148,
     "metadata": {},
     "output_type": "execute_result"
    }
   ],
   "source": [
    "AL_kmean_man_zscore"
   ]
  },
  {
   "cell_type": "code",
   "execution_count": 149,
   "metadata": {},
   "outputs": [
    {
     "data": {
      "text/plain": [
       "5.931959058789201"
      ]
     },
     "execution_count": 149,
     "metadata": {},
     "output_type": "execute_result"
    }
   ],
   "source": [
    "AL_dbscan_man_zscore"
   ]
  },
  {
   "cell_type": "markdown",
   "metadata": {},
   "source": [
    "## 4(iii) Internal evaluation measure: the complete link between two clusters"
   ]
  },
  {
   "cell_type": "code",
   "execution_count": 150,
   "metadata": {},
   "outputs": [],
   "source": [
    " #euclidean\n",
    "def get_CL_euc(y_pred, XX):\n",
    "    X0 = XX[y_pred == 0]\n",
    "    X1 = XX[y_pred == 1]\n",
    "    X2 = XX[y_pred == 2]\n",
    "    all_dist = []\n",
    "    for i in range(X0.shape[0]):\n",
    "        for j in range(X1.shape[0]):\n",
    "            all_dist.append(np.sqrt(sum((X0.iloc[i]-X1.iloc[j])**2)))\n",
    "    for i in range(X0.shape[0]):\n",
    "        for j in range(X2.shape[0]):\n",
    "            all_dist.append(np.sqrt(sum((X0.iloc[i]-X2.iloc[j])**2)))\n",
    "    for i in range(X1.shape[0]):\n",
    "        for j in range(X2.shape[0]):\n",
    "            all_dist.append(np.sqrt(sum((X1.iloc[i]-X2.iloc[j])**2)))\n",
    "    Complete_link = np.max(all_dist)       \n",
    "    return(Complete_link)"
   ]
  },
  {
   "cell_type": "code",
   "execution_count": 151,
   "metadata": {},
   "outputs": [],
   "source": [
    "# manhattan\n",
    "def get_CL_man(y_pred, XX):\n",
    "    X0 = XX[y_pred == 0]\n",
    "    X1 = XX[y_pred == 1]\n",
    "    X2 = XX[y_pred == 2]\n",
    "    all_dist = []\n",
    "    for i in range(X0.shape[0]):\n",
    "        for j in range(X1.shape[0]):\n",
    "            all_dist.append((sum(np.abs(X0.iloc[i]-X1.iloc[j]))))\n",
    "    for i in range(X0.shape[0]):\n",
    "        for j in range(X2.shape[0]):\n",
    "            all_dist.append((sum(np.abs(X0.iloc[i]-X2.iloc[j]))))\n",
    "    for i in range(X1.shape[0]):\n",
    "        for j in range(X2.shape[0]):\n",
    "            all_dist.append((sum(np.abs(X1.iloc[i]-X2.iloc[j]))))\n",
    "    Complete_link = np.max(all_dist)\n",
    "    return(Complete_link)"
   ]
  },
  {
   "cell_type": "code",
   "execution_count": 152,
   "metadata": {},
   "outputs": [],
   "source": [
    "CL_kmean_euc_minmax = get_CL_euc(y_pred_kmean_euc_minmax, X_minmax)\n",
    "CL_dbscan_euc_minmax = get_CL_euc(y_pred_dbscan_euc_minmax, X_minmax)"
   ]
  },
  {
   "cell_type": "code",
   "execution_count": 153,
   "metadata": {},
   "outputs": [
    {
     "data": {
      "text/plain": [
       "1.6511874008981202"
      ]
     },
     "execution_count": 153,
     "metadata": {},
     "output_type": "execute_result"
    }
   ],
   "source": [
    "CL_kmean_euc_minmax"
   ]
  },
  {
   "cell_type": "code",
   "execution_count": 154,
   "metadata": {},
   "outputs": [
    {
     "data": {
      "text/plain": [
       "1.6511874008981202"
      ]
     },
     "execution_count": 154,
     "metadata": {},
     "output_type": "execute_result"
    }
   ],
   "source": [
    "CL_dbscan_euc_minmax"
   ]
  },
  {
   "cell_type": "code",
   "execution_count": 155,
   "metadata": {},
   "outputs": [],
   "source": [
    "CL_kmean_euc_zscore = get_CL_euc(y_pred_kmean_euc_zscore, X_zscore)\n",
    "CL_dbscan_euc_zscore = get_CL_euc(y_pred_dbscan_euc_zscore, X_zscore)"
   ]
  },
  {
   "cell_type": "code",
   "execution_count": 156,
   "metadata": {},
   "outputs": [
    {
     "data": {
      "text/plain": [
       "6.5438161186009625"
      ]
     },
     "execution_count": 156,
     "metadata": {},
     "output_type": "execute_result"
    }
   ],
   "source": [
    "CL_kmean_euc_zscore"
   ]
  },
  {
   "cell_type": "code",
   "execution_count": 157,
   "metadata": {},
   "outputs": [
    {
     "data": {
      "text/plain": [
       "6.18359129330217"
      ]
     },
     "execution_count": 157,
     "metadata": {},
     "output_type": "execute_result"
    }
   ],
   "source": [
    "CL_dbscan_euc_zscore"
   ]
  },
  {
   "cell_type": "code",
   "execution_count": 158,
   "metadata": {},
   "outputs": [],
   "source": [
    "CL_kmean_man_minmax = get_CL_man(y_pred_kmean_man_minmax, X_minmax)\n",
    "CL_dbscan_man_minmax = get_CL_man(y_pred_dbscan_man_minmax, X_minmax)"
   ]
  },
  {
   "cell_type": "code",
   "execution_count": 159,
   "metadata": {},
   "outputs": [
    {
     "data": {
      "text/plain": [
       "3.220809792843691"
      ]
     },
     "execution_count": 159,
     "metadata": {},
     "output_type": "execute_result"
    }
   ],
   "source": [
    "CL_kmean_man_minmax"
   ]
  },
  {
   "cell_type": "code",
   "execution_count": 160,
   "metadata": {},
   "outputs": [
    {
     "data": {
      "text/plain": [
       "3.1527777777777777"
      ]
     },
     "execution_count": 160,
     "metadata": {},
     "output_type": "execute_result"
    }
   ],
   "source": [
    "CL_dbscan_man_minmax"
   ]
  },
  {
   "cell_type": "code",
   "execution_count": 161,
   "metadata": {},
   "outputs": [],
   "source": [
    "CL_kmean_man_zscore = get_CL_man(y_pred_kmean_man_zscore, X_zscore)\n",
    "CL_dbscan_man_zscore = get_CL_man(y_pred_dbscan_man_zscore, X_zscore)"
   ]
  },
  {
   "cell_type": "code",
   "execution_count": 162,
   "metadata": {},
   "outputs": [
    {
     "data": {
      "text/plain": [
       "12.930190151250294"
      ]
     },
     "execution_count": 162,
     "metadata": {},
     "output_type": "execute_result"
    }
   ],
   "source": [
    "CL_kmean_man_zscore"
   ]
  },
  {
   "cell_type": "code",
   "execution_count": 163,
   "metadata": {},
   "outputs": [
    {
     "data": {
      "text/plain": [
       "12.200504034519897"
      ]
     },
     "execution_count": 163,
     "metadata": {},
     "output_type": "execute_result"
    }
   ],
   "source": [
    "CL_dbscan_man_zscore"
   ]
  },
  {
   "cell_type": "code",
   "execution_count": null,
   "metadata": {},
   "outputs": [],
   "source": []
  },
  {
   "cell_type": "code",
   "execution_count": null,
   "metadata": {},
   "outputs": [],
   "source": []
  }
 ],
 "metadata": {
  "kernelspec": {
   "display_name": "Python 3",
   "language": "python",
   "name": "python3"
  },
  "language_info": {
   "codemirror_mode": {
    "name": "ipython",
    "version": 3
   },
   "file_extension": ".py",
   "mimetype": "text/x-python",
   "name": "python",
   "nbconvert_exporter": "python",
   "pygments_lexer": "ipython3",
   "version": "3.8.5"
  }
 },
 "nbformat": 4,
 "nbformat_minor": 4
}
